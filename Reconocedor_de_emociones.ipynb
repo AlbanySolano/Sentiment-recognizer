{
  "nbformat": 4,
  "nbformat_minor": 0,
  "metadata": {
    "colab": {
      "provenance": []
    },
    "kernelspec": {
      "name": "python3",
      "display_name": "Python 3"
    },
    "language_info": {
      "name": "python"
    }
  },
  "cells": [
    {
      "cell_type": "code",
      "source": [
        "#Descargamos el archivo desde el drive\n",
        "!gdown https://drive.google.com/u/0/uc?id=1-kduva3Ji4ia1kFeKvYh_4AhIYwqb2Sa&export=download"
      ],
      "metadata": {
        "colab": {
          "base_uri": "https://localhost:8080/"
        },
        "id": "4TLcb6knHHTm",
        "outputId": "ffdf3402-b1ce-46ab-86b0-a91ed7a49a41"
      },
      "execution_count": null,
      "outputs": [
        {
          "output_type": "stream",
          "name": "stdout",
          "text": [
            "Downloading...\n",
            "From: https://drive.google.com/u/0/uc?id=1-kduva3Ji4ia1kFeKvYh_4AhIYwqb2Sa\n",
            "To: /content/tweet_emotions.csv\n",
            "\r  0% 0.00/3.77M [00:00<?, ?B/s]\r100% 3.77M/3.77M [00:00<00:00, 79.8MB/s]\n"
          ]
        }
      ]
    },
    {
      "cell_type": "markdown",
      "source": [
        "##Importaciones y descargas"
      ],
      "metadata": {
        "id": "WZYNaL7bgS0_"
      }
    },
    {
      "cell_type": "code",
      "execution_count": null,
      "metadata": {
        "id": "-f7rjmecbNX-"
      },
      "outputs": [],
      "source": [
        "import pandas as pd\n",
        "import nltk\n",
        "import pickle\n",
        "from nltk import word_tokenize\n",
        "from nltk import WordNetLemmatizer\n",
        "from nltk import pos_tag\n",
        "from nltk.probability import FreqDist\n",
        "from nltk.stem import PorterStemmer\n",
        "from sklearn.feature_extraction.text import TfidfVectorizer\n",
        "from sklearn.utils import resample"
      ]
    },
    {
      "cell_type": "code",
      "source": [
        "nltk.download('stopwords')\n",
        "nltk.download('punkt')\n",
        "nltk.download('names')\n",
        "nltk.download('wordnet')\n",
        "nltk.download('averaged_perceptron_tagger')\n",
        "nltk.download('tagsets')"
      ],
      "metadata": {
        "colab": {
          "base_uri": "https://localhost:8080/"
        },
        "id": "XgN4jX6vgV_l",
        "outputId": "551790f5-e2dd-4803-ede5-78fd6b4e9592"
      },
      "execution_count": null,
      "outputs": [
        {
          "output_type": "stream",
          "name": "stderr",
          "text": [
            "[nltk_data] Downloading package stopwords to /root/nltk_data...\n",
            "[nltk_data]   Unzipping corpora/stopwords.zip.\n",
            "[nltk_data] Downloading package punkt to /root/nltk_data...\n",
            "[nltk_data]   Unzipping tokenizers/punkt.zip.\n",
            "[nltk_data] Downloading package names to /root/nltk_data...\n",
            "[nltk_data]   Unzipping corpora/names.zip.\n",
            "[nltk_data] Downloading package wordnet to /root/nltk_data...\n",
            "[nltk_data] Downloading package averaged_perceptron_tagger to\n",
            "[nltk_data]     /root/nltk_data...\n",
            "[nltk_data]   Unzipping taggers/averaged_perceptron_tagger.zip.\n",
            "[nltk_data] Downloading package tagsets to /root/nltk_data...\n",
            "[nltk_data]   Unzipping help/tagsets.zip.\n"
          ]
        },
        {
          "output_type": "execute_result",
          "data": {
            "text/plain": [
              "True"
            ]
          },
          "metadata": {},
          "execution_count": 3
        }
      ]
    },
    {
      "cell_type": "markdown",
      "source": [
        "##Dataset"
      ],
      "metadata": {
        "id": "xW3HR6stfgrU"
      }
    },
    {
      "cell_type": "code",
      "source": [
        "dataset = pd.read_csv(\"/content/tweet_emotions.csv\")\n",
        "dataset"
      ],
      "metadata": {
        "colab": {
          "base_uri": "https://localhost:8080/",
          "height": 424
        },
        "id": "AIG0hFD7cRRY",
        "outputId": "aa98f7a5-7680-468c-d07b-9186c604cb5e"
      },
      "execution_count": null,
      "outputs": [
        {
          "output_type": "execute_result",
          "data": {
            "text/plain": [
              "         tweet_id   sentiment  \\\n",
              "0      1956967341       empty   \n",
              "1      1956967666     sadness   \n",
              "2      1956967696     sadness   \n",
              "3      1956967789  enthusiasm   \n",
              "4      1956968416     neutral   \n",
              "...           ...         ...   \n",
              "39995  1753918954     neutral   \n",
              "39996  1753919001        love   \n",
              "39997  1753919005        love   \n",
              "39998  1753919043   happiness   \n",
              "39999  1753919049        love   \n",
              "\n",
              "                                                 content  \n",
              "0      @tiffanylue i know  i was listenin to bad habi...  \n",
              "1      Layin n bed with a headache  ughhhh...waitin o...  \n",
              "2                    Funeral ceremony...gloomy friday...  \n",
              "3                   wants to hang out with friends SOON!  \n",
              "4      @dannycastillo We want to trade with someone w...  \n",
              "...                                                  ...  \n",
              "39995                                   @JohnLloydTaylor  \n",
              "39996                     Happy Mothers Day  All my love  \n",
              "39997  Happy Mother's Day to all the mommies out ther...  \n",
              "39998  @niariley WASSUP BEAUTIFUL!!! FOLLOW ME!!  PEE...  \n",
              "39999  @mopedronin bullet train from tokyo    the gf ...  \n",
              "\n",
              "[40000 rows x 3 columns]"
            ],
            "text/html": [
              "\n",
              "  <div id=\"df-facd267c-839f-4497-96c6-6244c37b0f0a\" class=\"colab-df-container\">\n",
              "    <div>\n",
              "<style scoped>\n",
              "    .dataframe tbody tr th:only-of-type {\n",
              "        vertical-align: middle;\n",
              "    }\n",
              "\n",
              "    .dataframe tbody tr th {\n",
              "        vertical-align: top;\n",
              "    }\n",
              "\n",
              "    .dataframe thead th {\n",
              "        text-align: right;\n",
              "    }\n",
              "</style>\n",
              "<table border=\"1\" class=\"dataframe\">\n",
              "  <thead>\n",
              "    <tr style=\"text-align: right;\">\n",
              "      <th></th>\n",
              "      <th>tweet_id</th>\n",
              "      <th>sentiment</th>\n",
              "      <th>content</th>\n",
              "    </tr>\n",
              "  </thead>\n",
              "  <tbody>\n",
              "    <tr>\n",
              "      <th>0</th>\n",
              "      <td>1956967341</td>\n",
              "      <td>empty</td>\n",
              "      <td>@tiffanylue i know  i was listenin to bad habi...</td>\n",
              "    </tr>\n",
              "    <tr>\n",
              "      <th>1</th>\n",
              "      <td>1956967666</td>\n",
              "      <td>sadness</td>\n",
              "      <td>Layin n bed with a headache  ughhhh...waitin o...</td>\n",
              "    </tr>\n",
              "    <tr>\n",
              "      <th>2</th>\n",
              "      <td>1956967696</td>\n",
              "      <td>sadness</td>\n",
              "      <td>Funeral ceremony...gloomy friday...</td>\n",
              "    </tr>\n",
              "    <tr>\n",
              "      <th>3</th>\n",
              "      <td>1956967789</td>\n",
              "      <td>enthusiasm</td>\n",
              "      <td>wants to hang out with friends SOON!</td>\n",
              "    </tr>\n",
              "    <tr>\n",
              "      <th>4</th>\n",
              "      <td>1956968416</td>\n",
              "      <td>neutral</td>\n",
              "      <td>@dannycastillo We want to trade with someone w...</td>\n",
              "    </tr>\n",
              "    <tr>\n",
              "      <th>...</th>\n",
              "      <td>...</td>\n",
              "      <td>...</td>\n",
              "      <td>...</td>\n",
              "    </tr>\n",
              "    <tr>\n",
              "      <th>39995</th>\n",
              "      <td>1753918954</td>\n",
              "      <td>neutral</td>\n",
              "      <td>@JohnLloydTaylor</td>\n",
              "    </tr>\n",
              "    <tr>\n",
              "      <th>39996</th>\n",
              "      <td>1753919001</td>\n",
              "      <td>love</td>\n",
              "      <td>Happy Mothers Day  All my love</td>\n",
              "    </tr>\n",
              "    <tr>\n",
              "      <th>39997</th>\n",
              "      <td>1753919005</td>\n",
              "      <td>love</td>\n",
              "      <td>Happy Mother's Day to all the mommies out ther...</td>\n",
              "    </tr>\n",
              "    <tr>\n",
              "      <th>39998</th>\n",
              "      <td>1753919043</td>\n",
              "      <td>happiness</td>\n",
              "      <td>@niariley WASSUP BEAUTIFUL!!! FOLLOW ME!!  PEE...</td>\n",
              "    </tr>\n",
              "    <tr>\n",
              "      <th>39999</th>\n",
              "      <td>1753919049</td>\n",
              "      <td>love</td>\n",
              "      <td>@mopedronin bullet train from tokyo    the gf ...</td>\n",
              "    </tr>\n",
              "  </tbody>\n",
              "</table>\n",
              "<p>40000 rows × 3 columns</p>\n",
              "</div>\n",
              "    <div class=\"colab-df-buttons\">\n",
              "\n",
              "  <div class=\"colab-df-container\">\n",
              "    <button class=\"colab-df-convert\" onclick=\"convertToInteractive('df-facd267c-839f-4497-96c6-6244c37b0f0a')\"\n",
              "            title=\"Convert this dataframe to an interactive table.\"\n",
              "            style=\"display:none;\">\n",
              "\n",
              "  <svg xmlns=\"http://www.w3.org/2000/svg\" height=\"24px\" viewBox=\"0 -960 960 960\">\n",
              "    <path d=\"M120-120v-720h720v720H120Zm60-500h600v-160H180v160Zm220 220h160v-160H400v160Zm0 220h160v-160H400v160ZM180-400h160v-160H180v160Zm440 0h160v-160H620v160ZM180-180h160v-160H180v160Zm440 0h160v-160H620v160Z\"/>\n",
              "  </svg>\n",
              "    </button>\n",
              "\n",
              "  <style>\n",
              "    .colab-df-container {\n",
              "      display:flex;\n",
              "      gap: 12px;\n",
              "    }\n",
              "\n",
              "    .colab-df-convert {\n",
              "      background-color: #E8F0FE;\n",
              "      border: none;\n",
              "      border-radius: 50%;\n",
              "      cursor: pointer;\n",
              "      display: none;\n",
              "      fill: #1967D2;\n",
              "      height: 32px;\n",
              "      padding: 0 0 0 0;\n",
              "      width: 32px;\n",
              "    }\n",
              "\n",
              "    .colab-df-convert:hover {\n",
              "      background-color: #E2EBFA;\n",
              "      box-shadow: 0px 1px 2px rgba(60, 64, 67, 0.3), 0px 1px 3px 1px rgba(60, 64, 67, 0.15);\n",
              "      fill: #174EA6;\n",
              "    }\n",
              "\n",
              "    .colab-df-buttons div {\n",
              "      margin-bottom: 4px;\n",
              "    }\n",
              "\n",
              "    [theme=dark] .colab-df-convert {\n",
              "      background-color: #3B4455;\n",
              "      fill: #D2E3FC;\n",
              "    }\n",
              "\n",
              "    [theme=dark] .colab-df-convert:hover {\n",
              "      background-color: #434B5C;\n",
              "      box-shadow: 0px 1px 3px 1px rgba(0, 0, 0, 0.15);\n",
              "      filter: drop-shadow(0px 1px 2px rgba(0, 0, 0, 0.3));\n",
              "      fill: #FFFFFF;\n",
              "    }\n",
              "  </style>\n",
              "\n",
              "    <script>\n",
              "      const buttonEl =\n",
              "        document.querySelector('#df-facd267c-839f-4497-96c6-6244c37b0f0a button.colab-df-convert');\n",
              "      buttonEl.style.display =\n",
              "        google.colab.kernel.accessAllowed ? 'block' : 'none';\n",
              "\n",
              "      async function convertToInteractive(key) {\n",
              "        const element = document.querySelector('#df-facd267c-839f-4497-96c6-6244c37b0f0a');\n",
              "        const dataTable =\n",
              "          await google.colab.kernel.invokeFunction('convertToInteractive',\n",
              "                                                    [key], {});\n",
              "        if (!dataTable) return;\n",
              "\n",
              "        const docLinkHtml = 'Like what you see? Visit the ' +\n",
              "          '<a target=\"_blank\" href=https://colab.research.google.com/notebooks/data_table.ipynb>data table notebook</a>'\n",
              "          + ' to learn more about interactive tables.';\n",
              "        element.innerHTML = '';\n",
              "        dataTable['output_type'] = 'display_data';\n",
              "        await google.colab.output.renderOutput(dataTable, element);\n",
              "        const docLink = document.createElement('div');\n",
              "        docLink.innerHTML = docLinkHtml;\n",
              "        element.appendChild(docLink);\n",
              "      }\n",
              "    </script>\n",
              "  </div>\n",
              "\n",
              "\n",
              "<div id=\"df-2f16a7b0-5b2e-4bc2-9982-891f17a4c73c\">\n",
              "  <button class=\"colab-df-quickchart\" onclick=\"quickchart('df-2f16a7b0-5b2e-4bc2-9982-891f17a4c73c')\"\n",
              "            title=\"Suggest charts.\"\n",
              "            style=\"display:none;\">\n",
              "\n",
              "<svg xmlns=\"http://www.w3.org/2000/svg\" height=\"24px\"viewBox=\"0 0 24 24\"\n",
              "     width=\"24px\">\n",
              "    <g>\n",
              "        <path d=\"M19 3H5c-1.1 0-2 .9-2 2v14c0 1.1.9 2 2 2h14c1.1 0 2-.9 2-2V5c0-1.1-.9-2-2-2zM9 17H7v-7h2v7zm4 0h-2V7h2v10zm4 0h-2v-4h2v4z\"/>\n",
              "    </g>\n",
              "</svg>\n",
              "  </button>\n",
              "\n",
              "<style>\n",
              "  .colab-df-quickchart {\n",
              "      --bg-color: #E8F0FE;\n",
              "      --fill-color: #1967D2;\n",
              "      --hover-bg-color: #E2EBFA;\n",
              "      --hover-fill-color: #174EA6;\n",
              "      --disabled-fill-color: #AAA;\n",
              "      --disabled-bg-color: #DDD;\n",
              "  }\n",
              "\n",
              "  [theme=dark] .colab-df-quickchart {\n",
              "      --bg-color: #3B4455;\n",
              "      --fill-color: #D2E3FC;\n",
              "      --hover-bg-color: #434B5C;\n",
              "      --hover-fill-color: #FFFFFF;\n",
              "      --disabled-bg-color: #3B4455;\n",
              "      --disabled-fill-color: #666;\n",
              "  }\n",
              "\n",
              "  .colab-df-quickchart {\n",
              "    background-color: var(--bg-color);\n",
              "    border: none;\n",
              "    border-radius: 50%;\n",
              "    cursor: pointer;\n",
              "    display: none;\n",
              "    fill: var(--fill-color);\n",
              "    height: 32px;\n",
              "    padding: 0;\n",
              "    width: 32px;\n",
              "  }\n",
              "\n",
              "  .colab-df-quickchart:hover {\n",
              "    background-color: var(--hover-bg-color);\n",
              "    box-shadow: 0 1px 2px rgba(60, 64, 67, 0.3), 0 1px 3px 1px rgba(60, 64, 67, 0.15);\n",
              "    fill: var(--button-hover-fill-color);\n",
              "  }\n",
              "\n",
              "  .colab-df-quickchart-complete:disabled,\n",
              "  .colab-df-quickchart-complete:disabled:hover {\n",
              "    background-color: var(--disabled-bg-color);\n",
              "    fill: var(--disabled-fill-color);\n",
              "    box-shadow: none;\n",
              "  }\n",
              "\n",
              "  .colab-df-spinner {\n",
              "    border: 2px solid var(--fill-color);\n",
              "    border-color: transparent;\n",
              "    border-bottom-color: var(--fill-color);\n",
              "    animation:\n",
              "      spin 1s steps(1) infinite;\n",
              "  }\n",
              "\n",
              "  @keyframes spin {\n",
              "    0% {\n",
              "      border-color: transparent;\n",
              "      border-bottom-color: var(--fill-color);\n",
              "      border-left-color: var(--fill-color);\n",
              "    }\n",
              "    20% {\n",
              "      border-color: transparent;\n",
              "      border-left-color: var(--fill-color);\n",
              "      border-top-color: var(--fill-color);\n",
              "    }\n",
              "    30% {\n",
              "      border-color: transparent;\n",
              "      border-left-color: var(--fill-color);\n",
              "      border-top-color: var(--fill-color);\n",
              "      border-right-color: var(--fill-color);\n",
              "    }\n",
              "    40% {\n",
              "      border-color: transparent;\n",
              "      border-right-color: var(--fill-color);\n",
              "      border-top-color: var(--fill-color);\n",
              "    }\n",
              "    60% {\n",
              "      border-color: transparent;\n",
              "      border-right-color: var(--fill-color);\n",
              "    }\n",
              "    80% {\n",
              "      border-color: transparent;\n",
              "      border-right-color: var(--fill-color);\n",
              "      border-bottom-color: var(--fill-color);\n",
              "    }\n",
              "    90% {\n",
              "      border-color: transparent;\n",
              "      border-bottom-color: var(--fill-color);\n",
              "    }\n",
              "  }\n",
              "</style>\n",
              "\n",
              "  <script>\n",
              "    async function quickchart(key) {\n",
              "      const quickchartButtonEl =\n",
              "        document.querySelector('#' + key + ' button');\n",
              "      quickchartButtonEl.disabled = true;  // To prevent multiple clicks.\n",
              "      quickchartButtonEl.classList.add('colab-df-spinner');\n",
              "      try {\n",
              "        const charts = await google.colab.kernel.invokeFunction(\n",
              "            'suggestCharts', [key], {});\n",
              "      } catch (error) {\n",
              "        console.error('Error during call to suggestCharts:', error);\n",
              "      }\n",
              "      quickchartButtonEl.classList.remove('colab-df-spinner');\n",
              "      quickchartButtonEl.classList.add('colab-df-quickchart-complete');\n",
              "    }\n",
              "    (() => {\n",
              "      let quickchartButtonEl =\n",
              "        document.querySelector('#df-2f16a7b0-5b2e-4bc2-9982-891f17a4c73c button');\n",
              "      quickchartButtonEl.style.display =\n",
              "        google.colab.kernel.accessAllowed ? 'block' : 'none';\n",
              "    })();\n",
              "  </script>\n",
              "</div>\n",
              "    </div>\n",
              "  </div>\n"
            ]
          },
          "metadata": {},
          "execution_count": 4
        }
      ]
    },
    {
      "cell_type": "code",
      "source": [
        "dataset['sentiment'].value_counts()"
      ],
      "metadata": {
        "colab": {
          "base_uri": "https://localhost:8080/"
        },
        "id": "K_LT0Xvu7JPh",
        "outputId": "abff88fe-5bb4-4235-a4b0-fdb442e3065f"
      },
      "execution_count": null,
      "outputs": [
        {
          "output_type": "execute_result",
          "data": {
            "text/plain": [
              "neutral       8638\n",
              "worry         8459\n",
              "happiness     5209\n",
              "sadness       5165\n",
              "love          3842\n",
              "surprise      2187\n",
              "fun           1776\n",
              "relief        1526\n",
              "hate          1323\n",
              "empty          827\n",
              "enthusiasm     759\n",
              "boredom        179\n",
              "anger          110\n",
              "Name: sentiment, dtype: int64"
            ]
          },
          "metadata": {},
          "execution_count": 5
        }
      ]
    },
    {
      "cell_type": "code",
      "source": [
        "#Limpieza del dataset para poder trabajar con el mas adelante\n",
        "#Se elimino una columna y 11 sentimientos\n",
        "data_frame = dataset.drop(['tweet_id'], axis=1)\n",
        "classes_to_remove = ['anger', 'boredom', 'empty', 'enthusiasm', 'fun', 'relief', 'hate', 'surprise', 'love', 'happiness', 'sadness']\n",
        "\n",
        "data_frame = data_frame[~data_frame['sentiment'].isin(classes_to_remove)]\n",
        "\n",
        "data_frame"
      ],
      "metadata": {
        "colab": {
          "base_uri": "https://localhost:8080/",
          "height": 424
        },
        "id": "DGTuYygsc_t3",
        "outputId": "c7f3f069-4e7e-4e1d-bc9d-f26bb9fe751e"
      },
      "execution_count": null,
      "outputs": [
        {
          "output_type": "execute_result",
          "data": {
            "text/plain": [
              "      sentiment                                            content\n",
              "4       neutral  @dannycastillo We want to trade with someone w...\n",
              "5         worry  Re-pinging @ghostridah14: why didn't you go to...\n",
              "7         worry               Hmmm. http://www.djhero.com/ is down\n",
              "10      neutral                                   cant fall asleep\n",
              "11        worry                            Choked on her retainers\n",
              "...         ...                                                ...\n",
              "39990   neutral  @shonali I think the lesson of the day is not ...\n",
              "39991   neutral  @lovelylisaj can you give me the link for the ...\n",
              "39992   neutral  @jasimmo Ooo showing of your French skills!! l...\n",
              "39993   neutral  @sendsome2me haha, yeah. Twitter has many uses...\n",
              "39995   neutral                                   @JohnLloydTaylor\n",
              "\n",
              "[17097 rows x 2 columns]"
            ],
            "text/html": [
              "\n",
              "  <div id=\"df-d20f24d9-d3b9-4420-a17a-7bbebe9d73fe\" class=\"colab-df-container\">\n",
              "    <div>\n",
              "<style scoped>\n",
              "    .dataframe tbody tr th:only-of-type {\n",
              "        vertical-align: middle;\n",
              "    }\n",
              "\n",
              "    .dataframe tbody tr th {\n",
              "        vertical-align: top;\n",
              "    }\n",
              "\n",
              "    .dataframe thead th {\n",
              "        text-align: right;\n",
              "    }\n",
              "</style>\n",
              "<table border=\"1\" class=\"dataframe\">\n",
              "  <thead>\n",
              "    <tr style=\"text-align: right;\">\n",
              "      <th></th>\n",
              "      <th>sentiment</th>\n",
              "      <th>content</th>\n",
              "    </tr>\n",
              "  </thead>\n",
              "  <tbody>\n",
              "    <tr>\n",
              "      <th>4</th>\n",
              "      <td>neutral</td>\n",
              "      <td>@dannycastillo We want to trade with someone w...</td>\n",
              "    </tr>\n",
              "    <tr>\n",
              "      <th>5</th>\n",
              "      <td>worry</td>\n",
              "      <td>Re-pinging @ghostridah14: why didn't you go to...</td>\n",
              "    </tr>\n",
              "    <tr>\n",
              "      <th>7</th>\n",
              "      <td>worry</td>\n",
              "      <td>Hmmm. http://www.djhero.com/ is down</td>\n",
              "    </tr>\n",
              "    <tr>\n",
              "      <th>10</th>\n",
              "      <td>neutral</td>\n",
              "      <td>cant fall asleep</td>\n",
              "    </tr>\n",
              "    <tr>\n",
              "      <th>11</th>\n",
              "      <td>worry</td>\n",
              "      <td>Choked on her retainers</td>\n",
              "    </tr>\n",
              "    <tr>\n",
              "      <th>...</th>\n",
              "      <td>...</td>\n",
              "      <td>...</td>\n",
              "    </tr>\n",
              "    <tr>\n",
              "      <th>39990</th>\n",
              "      <td>neutral</td>\n",
              "      <td>@shonali I think the lesson of the day is not ...</td>\n",
              "    </tr>\n",
              "    <tr>\n",
              "      <th>39991</th>\n",
              "      <td>neutral</td>\n",
              "      <td>@lovelylisaj can you give me the link for the ...</td>\n",
              "    </tr>\n",
              "    <tr>\n",
              "      <th>39992</th>\n",
              "      <td>neutral</td>\n",
              "      <td>@jasimmo Ooo showing of your French skills!! l...</td>\n",
              "    </tr>\n",
              "    <tr>\n",
              "      <th>39993</th>\n",
              "      <td>neutral</td>\n",
              "      <td>@sendsome2me haha, yeah. Twitter has many uses...</td>\n",
              "    </tr>\n",
              "    <tr>\n",
              "      <th>39995</th>\n",
              "      <td>neutral</td>\n",
              "      <td>@JohnLloydTaylor</td>\n",
              "    </tr>\n",
              "  </tbody>\n",
              "</table>\n",
              "<p>17097 rows × 2 columns</p>\n",
              "</div>\n",
              "    <div class=\"colab-df-buttons\">\n",
              "\n",
              "  <div class=\"colab-df-container\">\n",
              "    <button class=\"colab-df-convert\" onclick=\"convertToInteractive('df-d20f24d9-d3b9-4420-a17a-7bbebe9d73fe')\"\n",
              "            title=\"Convert this dataframe to an interactive table.\"\n",
              "            style=\"display:none;\">\n",
              "\n",
              "  <svg xmlns=\"http://www.w3.org/2000/svg\" height=\"24px\" viewBox=\"0 -960 960 960\">\n",
              "    <path d=\"M120-120v-720h720v720H120Zm60-500h600v-160H180v160Zm220 220h160v-160H400v160Zm0 220h160v-160H400v160ZM180-400h160v-160H180v160Zm440 0h160v-160H620v160ZM180-180h160v-160H180v160Zm440 0h160v-160H620v160Z\"/>\n",
              "  </svg>\n",
              "    </button>\n",
              "\n",
              "  <style>\n",
              "    .colab-df-container {\n",
              "      display:flex;\n",
              "      gap: 12px;\n",
              "    }\n",
              "\n",
              "    .colab-df-convert {\n",
              "      background-color: #E8F0FE;\n",
              "      border: none;\n",
              "      border-radius: 50%;\n",
              "      cursor: pointer;\n",
              "      display: none;\n",
              "      fill: #1967D2;\n",
              "      height: 32px;\n",
              "      padding: 0 0 0 0;\n",
              "      width: 32px;\n",
              "    }\n",
              "\n",
              "    .colab-df-convert:hover {\n",
              "      background-color: #E2EBFA;\n",
              "      box-shadow: 0px 1px 2px rgba(60, 64, 67, 0.3), 0px 1px 3px 1px rgba(60, 64, 67, 0.15);\n",
              "      fill: #174EA6;\n",
              "    }\n",
              "\n",
              "    .colab-df-buttons div {\n",
              "      margin-bottom: 4px;\n",
              "    }\n",
              "\n",
              "    [theme=dark] .colab-df-convert {\n",
              "      background-color: #3B4455;\n",
              "      fill: #D2E3FC;\n",
              "    }\n",
              "\n",
              "    [theme=dark] .colab-df-convert:hover {\n",
              "      background-color: #434B5C;\n",
              "      box-shadow: 0px 1px 3px 1px rgba(0, 0, 0, 0.15);\n",
              "      filter: drop-shadow(0px 1px 2px rgba(0, 0, 0, 0.3));\n",
              "      fill: #FFFFFF;\n",
              "    }\n",
              "  </style>\n",
              "\n",
              "    <script>\n",
              "      const buttonEl =\n",
              "        document.querySelector('#df-d20f24d9-d3b9-4420-a17a-7bbebe9d73fe button.colab-df-convert');\n",
              "      buttonEl.style.display =\n",
              "        google.colab.kernel.accessAllowed ? 'block' : 'none';\n",
              "\n",
              "      async function convertToInteractive(key) {\n",
              "        const element = document.querySelector('#df-d20f24d9-d3b9-4420-a17a-7bbebe9d73fe');\n",
              "        const dataTable =\n",
              "          await google.colab.kernel.invokeFunction('convertToInteractive',\n",
              "                                                    [key], {});\n",
              "        if (!dataTable) return;\n",
              "\n",
              "        const docLinkHtml = 'Like what you see? Visit the ' +\n",
              "          '<a target=\"_blank\" href=https://colab.research.google.com/notebooks/data_table.ipynb>data table notebook</a>'\n",
              "          + ' to learn more about interactive tables.';\n",
              "        element.innerHTML = '';\n",
              "        dataTable['output_type'] = 'display_data';\n",
              "        await google.colab.output.renderOutput(dataTable, element);\n",
              "        const docLink = document.createElement('div');\n",
              "        docLink.innerHTML = docLinkHtml;\n",
              "        element.appendChild(docLink);\n",
              "      }\n",
              "    </script>\n",
              "  </div>\n",
              "\n",
              "\n",
              "<div id=\"df-a9e7fb99-091a-41df-bc75-31a80f0d56de\">\n",
              "  <button class=\"colab-df-quickchart\" onclick=\"quickchart('df-a9e7fb99-091a-41df-bc75-31a80f0d56de')\"\n",
              "            title=\"Suggest charts.\"\n",
              "            style=\"display:none;\">\n",
              "\n",
              "<svg xmlns=\"http://www.w3.org/2000/svg\" height=\"24px\"viewBox=\"0 0 24 24\"\n",
              "     width=\"24px\">\n",
              "    <g>\n",
              "        <path d=\"M19 3H5c-1.1 0-2 .9-2 2v14c0 1.1.9 2 2 2h14c1.1 0 2-.9 2-2V5c0-1.1-.9-2-2-2zM9 17H7v-7h2v7zm4 0h-2V7h2v10zm4 0h-2v-4h2v4z\"/>\n",
              "    </g>\n",
              "</svg>\n",
              "  </button>\n",
              "\n",
              "<style>\n",
              "  .colab-df-quickchart {\n",
              "      --bg-color: #E8F0FE;\n",
              "      --fill-color: #1967D2;\n",
              "      --hover-bg-color: #E2EBFA;\n",
              "      --hover-fill-color: #174EA6;\n",
              "      --disabled-fill-color: #AAA;\n",
              "      --disabled-bg-color: #DDD;\n",
              "  }\n",
              "\n",
              "  [theme=dark] .colab-df-quickchart {\n",
              "      --bg-color: #3B4455;\n",
              "      --fill-color: #D2E3FC;\n",
              "      --hover-bg-color: #434B5C;\n",
              "      --hover-fill-color: #FFFFFF;\n",
              "      --disabled-bg-color: #3B4455;\n",
              "      --disabled-fill-color: #666;\n",
              "  }\n",
              "\n",
              "  .colab-df-quickchart {\n",
              "    background-color: var(--bg-color);\n",
              "    border: none;\n",
              "    border-radius: 50%;\n",
              "    cursor: pointer;\n",
              "    display: none;\n",
              "    fill: var(--fill-color);\n",
              "    height: 32px;\n",
              "    padding: 0;\n",
              "    width: 32px;\n",
              "  }\n",
              "\n",
              "  .colab-df-quickchart:hover {\n",
              "    background-color: var(--hover-bg-color);\n",
              "    box-shadow: 0 1px 2px rgba(60, 64, 67, 0.3), 0 1px 3px 1px rgba(60, 64, 67, 0.15);\n",
              "    fill: var(--button-hover-fill-color);\n",
              "  }\n",
              "\n",
              "  .colab-df-quickchart-complete:disabled,\n",
              "  .colab-df-quickchart-complete:disabled:hover {\n",
              "    background-color: var(--disabled-bg-color);\n",
              "    fill: var(--disabled-fill-color);\n",
              "    box-shadow: none;\n",
              "  }\n",
              "\n",
              "  .colab-df-spinner {\n",
              "    border: 2px solid var(--fill-color);\n",
              "    border-color: transparent;\n",
              "    border-bottom-color: var(--fill-color);\n",
              "    animation:\n",
              "      spin 1s steps(1) infinite;\n",
              "  }\n",
              "\n",
              "  @keyframes spin {\n",
              "    0% {\n",
              "      border-color: transparent;\n",
              "      border-bottom-color: var(--fill-color);\n",
              "      border-left-color: var(--fill-color);\n",
              "    }\n",
              "    20% {\n",
              "      border-color: transparent;\n",
              "      border-left-color: var(--fill-color);\n",
              "      border-top-color: var(--fill-color);\n",
              "    }\n",
              "    30% {\n",
              "      border-color: transparent;\n",
              "      border-left-color: var(--fill-color);\n",
              "      border-top-color: var(--fill-color);\n",
              "      border-right-color: var(--fill-color);\n",
              "    }\n",
              "    40% {\n",
              "      border-color: transparent;\n",
              "      border-right-color: var(--fill-color);\n",
              "      border-top-color: var(--fill-color);\n",
              "    }\n",
              "    60% {\n",
              "      border-color: transparent;\n",
              "      border-right-color: var(--fill-color);\n",
              "    }\n",
              "    80% {\n",
              "      border-color: transparent;\n",
              "      border-right-color: var(--fill-color);\n",
              "      border-bottom-color: var(--fill-color);\n",
              "    }\n",
              "    90% {\n",
              "      border-color: transparent;\n",
              "      border-bottom-color: var(--fill-color);\n",
              "    }\n",
              "  }\n",
              "</style>\n",
              "\n",
              "  <script>\n",
              "    async function quickchart(key) {\n",
              "      const quickchartButtonEl =\n",
              "        document.querySelector('#' + key + ' button');\n",
              "      quickchartButtonEl.disabled = true;  // To prevent multiple clicks.\n",
              "      quickchartButtonEl.classList.add('colab-df-spinner');\n",
              "      try {\n",
              "        const charts = await google.colab.kernel.invokeFunction(\n",
              "            'suggestCharts', [key], {});\n",
              "      } catch (error) {\n",
              "        console.error('Error during call to suggestCharts:', error);\n",
              "      }\n",
              "      quickchartButtonEl.classList.remove('colab-df-spinner');\n",
              "      quickchartButtonEl.classList.add('colab-df-quickchart-complete');\n",
              "    }\n",
              "    (() => {\n",
              "      let quickchartButtonEl =\n",
              "        document.querySelector('#df-a9e7fb99-091a-41df-bc75-31a80f0d56de button');\n",
              "      quickchartButtonEl.style.display =\n",
              "        google.colab.kernel.accessAllowed ? 'block' : 'none';\n",
              "    })();\n",
              "  </script>\n",
              "</div>\n",
              "    </div>\n",
              "  </div>\n"
            ]
          },
          "metadata": {},
          "execution_count": 6
        }
      ]
    },
    {
      "cell_type": "code",
      "source": [
        "word_tokenize('wants to hang out with friends SOON!')"
      ],
      "metadata": {
        "colab": {
          "base_uri": "https://localhost:8080/"
        },
        "id": "OXnPblRPW3Wx",
        "outputId": "3eb765ea-2303-4455-9b63-e7f0ea8c6f2b"
      },
      "execution_count": null,
      "outputs": [
        {
          "output_type": "execute_result",
          "data": {
            "text/plain": [
              "['wants', 'to', 'hang', 'out', 'with', 'friends', 'SOON', '!']"
            ]
          },
          "metadata": {},
          "execution_count": 7
        }
      ]
    },
    {
      "cell_type": "code",
      "source": [
        "data_frame['sentiment'].value_counts()"
      ],
      "metadata": {
        "colab": {
          "base_uri": "https://localhost:8080/"
        },
        "id": "c_Ap4vinMHkf",
        "outputId": "59979cc6-5b62-4d57-b6f1-bbacc2bdb512"
      },
      "execution_count": null,
      "outputs": [
        {
          "output_type": "execute_result",
          "data": {
            "text/plain": [
              "neutral    8638\n",
              "worry      8459\n",
              "Name: sentiment, dtype: int64"
            ]
          },
          "metadata": {},
          "execution_count": 8
        }
      ]
    },
    {
      "cell_type": "markdown",
      "source": [
        "##Limpieza"
      ],
      "metadata": {
        "id": "mu3XvNEfHR_6"
      }
    },
    {
      "cell_type": "code",
      "source": [
        "stoplist = nltk.corpus.stopwords.words(\"english\")\n",
        "names = nltk.corpus.names.words()\n",
        "lemmatizer = WordNetLemmatizer()\n",
        "stemmer = PorterStemmer()"
      ],
      "metadata": {
        "id": "7D6CNsNrmVZR"
      },
      "execution_count": null,
      "outputs": []
    },
    {
      "cell_type": "code",
      "source": [
        "#Listado de tokens que no quiero que aparezcan\n",
        "unwanted_tokens = [\"http\", \"u\", \"lol\", \"amp\", \"ca\", \"na\", \"twitter\",\n",
        "                   \"lt\", \"hey\", \"tweet\", \"ur\", \"wan\", \"gon\", \"wo\",\n",
        "                   \"x\", \"ya\", \"ta\", \"n\", \"yes\", \"gt\", \"okay\", \"r\",\n",
        "                   \"xx\", \"b\", \"p\", \"la\", \"le\", \"wa\"]"
      ],
      "metadata": {
        "id": "wvgKUqM_VyTl"
      },
      "execution_count": null,
      "outputs": []
    },
    {
      "cell_type": "code",
      "source": [
        "#Se crea una funcion para empezar el proceso de limpiado y lematizacion\n",
        "from nltk.stem.snowball import stopwords\n",
        "def get_tokens(text):\n",
        "\n",
        "  tokens = word_tokenize(text)\n",
        "  cleaned_tokens = []\n",
        "\n",
        "  for token in tokens:\n",
        "    if token in stoplist: continue\n",
        "    if token in names: continue\n",
        "    if not token.isalpha(): continue\n",
        "    if token in unwanted_tokens: continue\n",
        "    token = token.lower()\n",
        "    token = lemmatizer.lemmatize(token)\n",
        "    #token = stemmer.stem(token)\n",
        "    cleaned_tokens.append(token)\n",
        "\n",
        "  #cleaned_tokens = [i for i in pos_tag(cleaned_tokens) if i [1][:2] in [\"RB\", \"VB\", \"JJ\", \"NN\"]]\n",
        "\n",
        "  return cleaned_tokens"
      ],
      "metadata": {
        "id": "xhC0sN9nDAls"
      },
      "execution_count": null,
      "outputs": []
    },
    {
      "cell_type": "code",
      "source": [
        "data_frame['content'].iloc[400]"
      ],
      "metadata": {
        "colab": {
          "base_uri": "https://localhost:8080/",
          "height": 35
        },
        "id": "OpH7QISyJWXU",
        "outputId": "8d47106a-4676-4197-c791-9cda21a5cd34"
      },
      "execution_count": null,
      "outputs": [
        {
          "output_type": "execute_result",
          "data": {
            "text/plain": [
              "'Ran out of money. I r a sad panda'"
            ],
            "application/vnd.google.colaboratory.intrinsic+json": {
              "type": "string"
            }
          },
          "metadata": {},
          "execution_count": 12
        }
      ]
    },
    {
      "cell_type": "code",
      "source": [
        "get_tokens(data_frame['content'].iloc[400])"
      ],
      "metadata": {
        "colab": {
          "base_uri": "https://localhost:8080/"
        },
        "id": "G7pAlHwF4Clp",
        "outputId": "7e2f1755-ed7c-44a3-88de-3cc096346bfe"
      },
      "execution_count": null,
      "outputs": [
        {
          "output_type": "execute_result",
          "data": {
            "text/plain": [
              "['ran', 'money', 'i', 'sad', 'panda']"
            ]
          },
          "metadata": {},
          "execution_count": 13
        }
      ]
    },
    {
      "cell_type": "code",
      "source": [
        "#Se construye el vocabulario en base a las categorias\n",
        "vocabulary = {sentiment:[] for sentiment in data_frame['sentiment']. unique()}\n",
        "complete_vocabulary = []\n",
        "\n",
        "for _, row in data_frame.iterrows():\n",
        "  tokens = get_tokens(row['content'])\n",
        "  vocabulary[row['sentiment']] += tokens\n",
        "  complete_vocabulary += tokens"
      ],
      "metadata": {
        "id": "r9DOxInpQo2a"
      },
      "execution_count": null,
      "outputs": []
    },
    {
      "cell_type": "code",
      "source": [
        "len(set(complete_vocabulary))"
      ],
      "metadata": {
        "colab": {
          "base_uri": "https://localhost:8080/"
        },
        "id": "k3AbZhKhZOmD",
        "outputId": "6b7f4c96-4a13-47d4-9d15-28796b979316"
      },
      "execution_count": null,
      "outputs": [
        {
          "output_type": "execute_result",
          "data": {
            "text/plain": [
              "20957"
            ]
          },
          "metadata": {},
          "execution_count": 15
        }
      ]
    },
    {
      "cell_type": "markdown",
      "source": [
        "##Instancias Pickle"
      ],
      "metadata": {
        "id": "t26n_adNhWpJ"
      }
    },
    {
      "cell_type": "code",
      "source": [
        "#For para crear los pickle\n",
        "for category in vocabulary:\n",
        "  FeelingMostCommon = [i[0] for i in FreqDist(vocabulary[category]).most_common(500)]\n",
        "  with open(f'FeelingMostCommon_{category}.pkl', 'wb') as file:\n",
        "    pickle.dump(FeelingMostCommon, file)"
      ],
      "metadata": {
        "id": "-r8xgLFUWUb1"
      },
      "execution_count": null,
      "outputs": []
    },
    {
      "cell_type": "code",
      "source": [
        "FeelingMostCommon_neutral = [i[0] for i in FreqDist(vocabulary['neutral']).most_common(1000)]\n",
        "FeelingMostCommon_worry = [i[0] for i in FreqDist(vocabulary['worry']).most_common(1000)]"
      ],
      "metadata": {
        "id": "2dXVZrixeQ47"
      },
      "execution_count": null,
      "outputs": []
    },
    {
      "cell_type": "code",
      "source": [
        "#nltk.help.upenn_tagset()"
      ],
      "metadata": {
        "id": "p4h9E4oEFGYY"
      },
      "execution_count": null,
      "outputs": []
    },
    {
      "cell_type": "code",
      "source": [
        "#FreqDist(get_tokens(data_frame['content'].iloc[77]))"
      ],
      "metadata": {
        "id": "gWdoGvvPV6xg"
      },
      "execution_count": null,
      "outputs": []
    },
    {
      "cell_type": "markdown",
      "source": [
        "##Entrenamiento del modelo"
      ],
      "metadata": {
        "id": "GUgXGNOH67Oa"
      }
    },
    {
      "cell_type": "code",
      "source": [
        "#Creacion de un set que reune los tokens mas comunes en los sentimientos 'Neutral' y 'Worry'\n",
        "most_common_tokens = list(set(FeelingMostCommon_neutral + FeelingMostCommon_worry))\n",
        "len(most_common_tokens)"
      ],
      "metadata": {
        "colab": {
          "base_uri": "https://localhost:8080/"
        },
        "id": "C9EtBnzd69HQ",
        "outputId": "4f1e53a7-3fdb-4f03-9aad-1d834cb3dded"
      },
      "execution_count": null,
      "outputs": [
        {
          "output_type": "execute_result",
          "data": {
            "text/plain": [
              "1207"
            ]
          },
          "metadata": {},
          "execution_count": 20
        }
      ]
    },
    {
      "cell_type": "code",
      "source": [
        "#Funcion de entrenamiento donde ya se trabaja con los tokens limpios\n",
        "def get_tokens_training(text):\n",
        "\n",
        "  tokens = word_tokenize(text)\n",
        "  cleaned_tokens = []\n",
        "\n",
        "  for token in tokens:\n",
        "    if token in stoplist: continue\n",
        "    if token in names: continue\n",
        "    if not token.isalpha(): continue\n",
        "    token = token.lower()\n",
        "    token = lemmatizer.lemmatize(token)\n",
        "    if token not in most_common_tokens: continue\n",
        "    cleaned_tokens.append(token)\n",
        "\n",
        "\n",
        "    #cleaned_tokens = [i for i in cleaned_tokens if token in most_common_tokens]\n",
        "\n",
        "#Aca lo que me retorna es cada token en un input separado por espacios\n",
        "  return \" \".join(cleaned_tokens)"
      ],
      "metadata": {
        "id": "Z1zKb5na8kal"
      },
      "execution_count": null,
      "outputs": []
    },
    {
      "cell_type": "code",
      "source": [
        "#Creacion de columna nueva con la funcion lambda donde cada token en un input se divide por espacios\n",
        "data_frame['Tokens String'] = data_frame['content'].apply(lambda x: get_tokens_training(x))\n",
        "data_frame['Tokens String']"
      ],
      "metadata": {
        "colab": {
          "base_uri": "https://localhost:8080/"
        },
        "id": "m7CRIVQDA_Ov",
        "outputId": "bfeef1d4-cefd-41de-c669-1e1d2797199d"
      },
      "execution_count": null,
      "outputs": [
        {
          "output_type": "execute_result",
          "data": {
            "text/plain": [
              "4                               we want someone ticket one\n",
              "5                                   go prom bc like friend\n",
              "7                                                     hmmm\n",
              "10                                        cant fall asleep\n",
              "11                                                        \n",
              "                               ...                        \n",
              "39990                                   i think lesson day\n",
              "39991                                     give link please\n",
              "39992    showing lol thing good lovely weather outside ...\n",
              "39993             haha yeah twitter many for know ppl care\n",
              "39995                                                     \n",
              "Name: Tokens String, Length: 17097, dtype: object"
            ]
          },
          "metadata": {},
          "execution_count": 22
        }
      ]
    },
    {
      "cell_type": "code",
      "source": [
        "# Concatena las muestras de todas las clases en un nuevo DataFrame\n",
        "\n",
        "df_training = pd.concat([\n",
        "  data_frame[data_frame[\"sentiment\"] == \"neutral\"].sample(8450),\n",
        "  data_frame[data_frame[\"sentiment\"] == \"worry\"].sample(8450),\n",
        "]).reset_index(drop=True)"
      ],
      "metadata": {
        "id": "mavfkhIvzf_w"
      },
      "execution_count": null,
      "outputs": []
    },
    {
      "cell_type": "code",
      "source": [
        "#Vectorizando la data\n",
        "vectorizer = TfidfVectorizer(vocabulary=most_common_tokens)\n",
        "X = vectorizer.fit_transform(data_frame['Tokens String'])\n",
        "X"
      ],
      "metadata": {
        "colab": {
          "base_uri": "https://localhost:8080/"
        },
        "id": "MnSzXo3CDTVJ",
        "outputId": "201e40f1-f552-4463-a6af-81d69dcfc062"
      },
      "execution_count": null,
      "outputs": [
        {
          "output_type": "execute_result",
          "data": {
            "text/plain": [
              "<17097x1207 sparse matrix of type '<class 'numpy.float64'>'\n",
              "\twith 79434 stored elements in Compressed Sparse Row format>"
            ]
          },
          "metadata": {},
          "execution_count": 24
        }
      ]
    },
    {
      "cell_type": "code",
      "source": [
        "X.shape"
      ],
      "metadata": {
        "colab": {
          "base_uri": "https://localhost:8080/"
        },
        "id": "JdYVvRr0g3GR",
        "outputId": "df176182-10ea-48c1-a7e3-505206293ce1"
      },
      "execution_count": null,
      "outputs": [
        {
          "output_type": "execute_result",
          "data": {
            "text/plain": [
              "(17097, 1207)"
            ]
          },
          "metadata": {},
          "execution_count": 25
        }
      ]
    },
    {
      "cell_type": "code",
      "source": [
        "y = data_frame['sentiment']\n",
        "y"
      ],
      "metadata": {
        "colab": {
          "base_uri": "https://localhost:8080/"
        },
        "id": "dV1aA63QFavm",
        "outputId": "8d7084bd-b228-493f-c2b5-31ff889a6a5c"
      },
      "execution_count": null,
      "outputs": [
        {
          "output_type": "execute_result",
          "data": {
            "text/plain": [
              "4        neutral\n",
              "5          worry\n",
              "7          worry\n",
              "10       neutral\n",
              "11         worry\n",
              "          ...   \n",
              "39990    neutral\n",
              "39991    neutral\n",
              "39992    neutral\n",
              "39993    neutral\n",
              "39995    neutral\n",
              "Name: sentiment, Length: 17097, dtype: object"
            ]
          },
          "metadata": {},
          "execution_count": 26
        }
      ]
    },
    {
      "cell_type": "markdown",
      "source": [
        "##Modelos de entrenamiento"
      ],
      "metadata": {
        "id": "XC7x2ZPce-UA"
      }
    },
    {
      "cell_type": "code",
      "source": [
        "from sklearn.ensemble import AdaBoostClassifier\n",
        "from sklearn.neighbors import KNeighborsClassifier\n",
        "from sklearn.ensemble import RandomForestClassifier\n",
        "from sklearn.tree import DecisionTreeClassifier\n",
        "from sklearn.naive_bayes import GaussianNB\n",
        "from sklearn.naive_bayes import MultinomialNB\n",
        "from sklearn.svm import SVC\n",
        "from sklearn.linear_model import LogisticRegression\n",
        "from sklearn.ensemble import GradientBoostingClassifier\n",
        "import lightgbm as lgb\n",
        "from sklearn.model_selection import train_test_split\n",
        "from sklearn.metrics import accuracy_score, precision_score, recall_score, confusion_matrix, classification_report"
      ],
      "metadata": {
        "id": "37oxcsSavPWv"
      },
      "execution_count": null,
      "outputs": []
    },
    {
      "cell_type": "code",
      "source": [
        "#Buscando el accuracy de los 10 modelos seleccionados para saber cual de estos es mas eficiente\n",
        "X_train, X_test, y_train, y_test = train_test_split(X, y, test_size=0.2, random_state=0)\n",
        "\n",
        "models= [AdaBoostClassifier(), KNeighborsClassifier(),RandomForestClassifier(), DecisionTreeClassifier(), GaussianNB(), MultinomialNB(),\n",
        "         SVC(), LogisticRegression(), GradientBoostingClassifier(), lgb.LGBMClassifier()]\n",
        "\n",
        "for model in models:\n",
        "  model.fit(X_train.toarray(), y_train)\n",
        "  y_pred = model.predict(X_test.toarray())\n",
        "  accuracy = accuracy_score(y_test, y_pred)\n",
        "  print(f\"Model: {model.__class__.__name__}, Accuracy: {accuracy}\")"
      ],
      "metadata": {
        "colab": {
          "base_uri": "https://localhost:8080/"
        },
        "id": "H0I4CKu9t1WX",
        "outputId": "81b31f0e-2baa-432a-8006-6df881f7ba9c"
      },
      "execution_count": null,
      "outputs": [
        {
          "output_type": "stream",
          "name": "stdout",
          "text": [
            "Model: AdaBoostClassifier, Accuracy: 0.6371345029239766\n",
            "Model: KNeighborsClassifier, Accuracy: 0.5228070175438596\n",
            "Model: RandomForestClassifier, Accuracy: 0.6488304093567251\n",
            "Model: DecisionTreeClassifier, Accuracy: 0.6002923976608188\n",
            "Model: GaussianNB, Accuracy: 0.6307017543859649\n",
            "Model: MultinomialNB, Accuracy: 0.6488304093567251\n",
            "Model: SVC, Accuracy: 0.6657894736842105\n",
            "Model: LogisticRegression, Accuracy: 0.6649122807017543\n",
            "Model: GradientBoostingClassifier, Accuracy: 0.6453216374269006\n",
            "[LightGBM] [Info] Number of positive: 6764, number of negative: 6913\n",
            "[LightGBM] [Info] Auto-choosing row-wise multi-threading, the overhead of testing was 0.065342 seconds.\n",
            "You can set `force_row_wise=true` to remove the overhead.\n",
            "And if memory is not enough, you can set `force_col_wise=true`.\n",
            "[LightGBM] [Info] Total Bins 19864\n",
            "[LightGBM] [Info] Number of data points in the train set: 13677, number of used features: 753\n",
            "[LightGBM] [Info] [binary:BoostFromScore]: pavg=0.494553 -> initscore=-0.021789\n",
            "[LightGBM] [Info] Start training from score -0.021789\n",
            "Model: LGBMClassifier, Accuracy: 0.6543859649122807\n"
          ]
        }
      ]
    },
    {
      "cell_type": "code",
      "source": [
        "#Creacion de la matriz de confusion perteneciente a cada modelo\n",
        "for model in models:\n",
        "  matrix = confusion_matrix(y_test, model.predict(X_test.toarray()))\n",
        "  print(f\"Model: {model.__class__.__name__}, Confusion Matrix: \\n{matrix}\")"
      ],
      "metadata": {
        "colab": {
          "base_uri": "https://localhost:8080/"
        },
        "id": "LhJXUjslutea",
        "outputId": "1de2c5cb-824f-45e6-f39d-3d2e7916af02"
      },
      "execution_count": null,
      "outputs": [
        {
          "output_type": "stream",
          "name": "stdout",
          "text": [
            "Model: AdaBoostClassifier, Confusion Matrix: \n",
            "[[1364  361]\n",
            " [ 880  815]]\n",
            "Model: KNeighborsClassifier, Confusion Matrix: \n",
            "[[1541  184]\n",
            " [1448  247]]\n",
            "Model: RandomForestClassifier, Confusion Matrix: \n",
            "[[1093  632]\n",
            " [ 569 1126]]\n",
            "Model: DecisionTreeClassifier, Confusion Matrix: \n",
            "[[1045  680]\n",
            " [ 687 1008]]\n",
            "Model: GaussianNB, Confusion Matrix: \n",
            "[[1267  458]\n",
            " [ 805  890]]\n",
            "Model: MultinomialNB, Confusion Matrix: \n",
            "[[1184  541]\n",
            " [ 660 1035]]\n",
            "Model: SVC, Confusion Matrix: \n",
            "[[1214  511]\n",
            " [ 632 1063]]\n",
            "Model: LogisticRegression, Confusion Matrix: \n",
            "[[1204  521]\n",
            " [ 625 1070]]\n",
            "Model: GradientBoostingClassifier, Confusion Matrix: \n",
            "[[1480  245]\n",
            " [ 968  727]]\n",
            "Model: LGBMClassifier, Confusion Matrix: \n",
            "[[1261  464]\n",
            " [ 718  977]]\n"
          ]
        }
      ]
    },
    {
      "cell_type": "code",
      "source": [
        "#Creando un reporte de clasificacion para cada modelo\n",
        "for model in models:\n",
        "  report = classification_report(y_test, model.predict(X_test.toarray()))\n",
        "  print(f\"Model: {model.__class__.__name__}, Classification Report: \\n{report}\")"
      ],
      "metadata": {
        "colab": {
          "base_uri": "https://localhost:8080/"
        },
        "id": "Ix5JiW5qwYJJ",
        "outputId": "5998479f-fa91-4ba3-e24e-984ede6b905c"
      },
      "execution_count": null,
      "outputs": [
        {
          "output_type": "stream",
          "name": "stdout",
          "text": [
            "Model: AdaBoostClassifier, Classification Report: \n",
            "              precision    recall  f1-score   support\n",
            "\n",
            "     neutral       0.61      0.79      0.69      1725\n",
            "       worry       0.69      0.48      0.57      1695\n",
            "\n",
            "    accuracy                           0.64      3420\n",
            "   macro avg       0.65      0.64      0.63      3420\n",
            "weighted avg       0.65      0.64      0.63      3420\n",
            "\n",
            "Model: KNeighborsClassifier, Classification Report: \n",
            "              precision    recall  f1-score   support\n",
            "\n",
            "     neutral       0.52      0.89      0.65      1725\n",
            "       worry       0.57      0.15      0.23      1695\n",
            "\n",
            "    accuracy                           0.52      3420\n",
            "   macro avg       0.54      0.52      0.44      3420\n",
            "weighted avg       0.54      0.52      0.44      3420\n",
            "\n",
            "Model: RandomForestClassifier, Classification Report: \n",
            "              precision    recall  f1-score   support\n",
            "\n",
            "     neutral       0.66      0.63      0.65      1725\n",
            "       worry       0.64      0.66      0.65      1695\n",
            "\n",
            "    accuracy                           0.65      3420\n",
            "   macro avg       0.65      0.65      0.65      3420\n",
            "weighted avg       0.65      0.65      0.65      3420\n",
            "\n",
            "Model: DecisionTreeClassifier, Classification Report: \n",
            "              precision    recall  f1-score   support\n",
            "\n",
            "     neutral       0.60      0.61      0.60      1725\n",
            "       worry       0.60      0.59      0.60      1695\n",
            "\n",
            "    accuracy                           0.60      3420\n",
            "   macro avg       0.60      0.60      0.60      3420\n",
            "weighted avg       0.60      0.60      0.60      3420\n",
            "\n",
            "Model: GaussianNB, Classification Report: \n",
            "              precision    recall  f1-score   support\n",
            "\n",
            "     neutral       0.61      0.73      0.67      1725\n",
            "       worry       0.66      0.53      0.58      1695\n",
            "\n",
            "    accuracy                           0.63      3420\n",
            "   macro avg       0.64      0.63      0.63      3420\n",
            "weighted avg       0.64      0.63      0.63      3420\n",
            "\n",
            "Model: MultinomialNB, Classification Report: \n",
            "              precision    recall  f1-score   support\n",
            "\n",
            "     neutral       0.64      0.69      0.66      1725\n",
            "       worry       0.66      0.61      0.63      1695\n",
            "\n",
            "    accuracy                           0.65      3420\n",
            "   macro avg       0.65      0.65      0.65      3420\n",
            "weighted avg       0.65      0.65      0.65      3420\n",
            "\n",
            "Model: SVC, Classification Report: \n",
            "              precision    recall  f1-score   support\n",
            "\n",
            "     neutral       0.66      0.70      0.68      1725\n",
            "       worry       0.68      0.63      0.65      1695\n",
            "\n",
            "    accuracy                           0.67      3420\n",
            "   macro avg       0.67      0.67      0.67      3420\n",
            "weighted avg       0.67      0.67      0.67      3420\n",
            "\n",
            "Model: LogisticRegression, Classification Report: \n",
            "              precision    recall  f1-score   support\n",
            "\n",
            "     neutral       0.66      0.70      0.68      1725\n",
            "       worry       0.67      0.63      0.65      1695\n",
            "\n",
            "    accuracy                           0.66      3420\n",
            "   macro avg       0.67      0.66      0.66      3420\n",
            "weighted avg       0.67      0.66      0.66      3420\n",
            "\n",
            "Model: GradientBoostingClassifier, Classification Report: \n",
            "              precision    recall  f1-score   support\n",
            "\n",
            "     neutral       0.60      0.86      0.71      1725\n",
            "       worry       0.75      0.43      0.55      1695\n",
            "\n",
            "    accuracy                           0.65      3420\n",
            "   macro avg       0.68      0.64      0.63      3420\n",
            "weighted avg       0.68      0.65      0.63      3420\n",
            "\n",
            "Model: LGBMClassifier, Classification Report: \n",
            "              precision    recall  f1-score   support\n",
            "\n",
            "     neutral       0.64      0.73      0.68      1725\n",
            "       worry       0.68      0.58      0.62      1695\n",
            "\n",
            "    accuracy                           0.65      3420\n",
            "   macro avg       0.66      0.65      0.65      3420\n",
            "weighted avg       0.66      0.65      0.65      3420\n",
            "\n"
          ]
        }
      ]
    },
    {
      "cell_type": "code",
      "source": [
        "#Guardando todos los modelos en archivos pickle\n",
        "for model in models:\n",
        "  with open(f'Model_{model.__class__.__name__}.pkl', 'wb') as file:\n",
        "    pickle.dump(model, file)"
      ],
      "metadata": {
        "id": "6OBj6cdoxzWe"
      },
      "execution_count": null,
      "outputs": []
    },
    {
      "cell_type": "code",
      "source": [
        "import matplotlib.pyplot as plt\n",
        "import numpy as np\n",
        "\n",
        "# Itera a través de los modelos\n",
        "for model in models:\n",
        "    matrix = confusion_matrix(y_test, model.predict(X_test.toarray()))\n",
        "    model_name = model.__class__.__name__\n",
        "\n",
        "# Crear la figura y el eje\n",
        "    fig, ax = plt.subplots(figsize=(6, 4))\n",
        "\n",
        "    # Crear la matriz de colores\n",
        "    cax = ax.matshow(matrix, cmap=plt.cm.Greens)\n",
        "\n",
        "    # Mostrar los valores en las celdas\n",
        "    for i in range(matrix.shape[0]):\n",
        "        for j in range(matrix.shape[1]):\n",
        "            ax.text(j, i, str(matrix[i, j]), va='center', ha='center')\n",
        "\n",
        "    # Configurar etiquetas de los ejes\n",
        "    classes = np.unique(y_test)\n",
        "    ax.set_xticks(np.arange(len(classes)))\n",
        "    ax.set_yticks(np.arange(len(classes)))\n",
        "    ax.set_xticklabels(classes)\n",
        "    ax.set_yticklabels(classes)\n",
        "\n",
        "    # Etiquetas de los ejes\n",
        "    plt.xlabel('Predicted')\n",
        "    plt.ylabel('True')\n",
        "\n",
        "    # Título\n",
        "    plt.title(f'Confusion Matrix - {model_name}')\n",
        "\n",
        "    # Mostrar la barra de color\n",
        "    fig.colorbar(cax)\n",
        "\n",
        "    plt.show()"
      ],
      "metadata": {
        "colab": {
          "base_uri": "https://localhost:8080/",
          "height": 1000
        },
        "id": "lB9SgBSEdnVx",
        "outputId": "388f2db6-1403-4e3a-992a-caaaf9461e4e"
      },
      "execution_count": null,
      "outputs": [
        {
          "output_type": "display_data",
          "data": {
            "text/plain": [
              "<Figure size 600x400 with 2 Axes>"
            ],
            "image/png": "[encoded data removed]"
          },
          "metadata": {}
        },
        {
          "output_type": "display_data",
          "data": {
            "text/plain": [
              "<Figure size 600x400 with 2 Axes>"
            ],
            "image/png": "[encoded data removed]"
          },
          "metadata": {}
        },
        {
          "output_type": "display_data",
          "data": {
            "text/plain": [
              "<Figure size 600x400 with 2 Axes>"
            ],
            "image/png": "[encoded data removed]"
          },
          "metadata": {}
        },
        {
          "output_type": "display_data",
          "data": {
            "text/plain": [
              "<Figure size 600x400 with 2 Axes>"
            ],
            "image/png": "[encoded data removed]"
          },
          "metadata": {}
        },
        {
          "output_type": "display_data",
          "data": {
            "text/plain": [
              "<Figure size 600x400 with 2 Axes>"
            ],
            "image/png": "[encoded data removed]"
          },
          "metadata": {}
        },
        {
          "output_type": "display_data",
          "data": {
            "text/plain": [
              "<Figure size 600x400 with 2 Axes>"
            ],
            "image/png": "[encoded data removed]"
          },
          "metadata": {}
        },
        {
          "output_type": "display_data",
          "data": {
            "text/plain": [
              "<Figure size 600x400 with 2 Axes>"
            ],
            "image/png": "[encoded data removed]"
          },
          "metadata": {}
        },
        {
          "output_type": "display_data",
          "data": {
            "text/plain": [
              "<Figure size 600x400 with 2 Axes>"
            ],
            "image/png": "[encoded data removed]"
          },
          "metadata": {}
        },
        {
          "output_type": "display_data",
          "data": {
            "text/plain": [
              "<Figure size 600x400 with 2 Axes>"
            ],
            "image/png": "[encoded data removed]"
          },
          "metadata": {}
        },
        {
          "output_type": "display_data",
          "data": {
            "text/plain": [
              "<Figure size 600x400 with 2 Axes>"
            ],
            "image/png": "[encoded data removed]"
          },
          "metadata": {}
        }
      ]
    },
    {
      "cell_type": "code",
      "source": [
        "#Grafica para ver los modelos y su presicion:\n",
        "\n",
        "# Extraemos nombres de modelos y porcentajes de precisión\n",
        "model_names = [model.__class__.__name__ for model in models]\n",
        "precisions = [accuracy_score(y_test, model.predict(X_test.toarray())) for model in models]\n",
        "\n",
        "# Creacion del gráfico de barras\n",
        "plt.figure(figsize=(12, 6))\n",
        "plt.barh(model_names, precisions, color='olive')\n",
        "plt.xlabel('Precisión')\n",
        "plt.title('Precisión de Modelos')\n",
        "plt.gca().invert_yaxis()  # Invertir el eje y para que el modelo con la mayor precisión esté en la parte superior\n",
        "\n",
        "# Agregar etiquetas en cada barra\n",
        "for i, precision in enumerate(precisions):\n",
        "    plt.text(precision, i, f\"{precision:.3f}\", ha='left', va='center')\n",
        "\n",
        "plt.show()"
      ],
      "metadata": {
        "colab": {
          "base_uri": "https://localhost:8080/",
          "height": 564
        },
        "id": "HgRNZCnSUcOS",
        "outputId": "c79fbc8c-3f5d-41db-b500-dbb885e2de7c"
      },
      "execution_count": null,
      "outputs": [
        {
          "output_type": "display_data",
          "data": {
            "text/plain": [
              "<Figure size 1200x600 with 1 Axes>"
            ],
            "image/png": "[encoded data removed]"
          },
          "metadata": {}
        }
      ]
    },
    {
      "cell_type": "markdown",
      "source": [
        "##\"Modelo en production\""
      ],
      "metadata": {
        "id": "fxmPwn5FxMdb"
      }
    },
    {
      "cell_type": "code",
      "source": [
        "import pandas as pd\n",
        "import nltk\n",
        "from nltk.tokenize import word_tokenize\n",
        "from nltk.stem import WordNetLemmatizer\n",
        "from nltk.stem import PorterStemmer\n",
        "from nltk.tag import pos_tag\n",
        "from nltk.probability import FreqDist\n",
        "import pickle\n",
        "from sklearn.naive_bayes import GaussianNB\n",
        "from sklearn.ensemble import AdaBoostClassifier\n",
        "from sklearn.neighbors import KNeighborsClassifier\n",
        "from sklearn.ensemble import RandomForestClassifier\n",
        "from sklearn.tree import DecisionTreeClassifier\n",
        "from sklearn.naive_bayes import GaussianNB\n",
        "from sklearn.naive_bayes import MultinomialNB\n",
        "from sklearn.svm import SVC\n",
        "from sklearn.linear_model import LogisticRegression\n",
        "from sklearn.ensemble import GradientBoostingClassifier\n",
        "import lightgbm as lgb"
      ],
      "metadata": {
        "id": "WP-CtPB1xQNO"
      },
      "execution_count": null,
      "outputs": []
    },
    {
      "cell_type": "code",
      "source": [
        "#Cargando los modelos pickle tanto de los modelos como de los sentimientos comunes mas usados\n",
        "loaded_model = {}\n",
        "loaded_common_feelings = {}\n",
        "for model in models:\n",
        "  with open(f'Model_{model.__class__.__name__}.pkl', 'rb') as file:\n",
        "    loaded_model[model.__class__.__name__] = pickle.load(file)\n",
        "  with open(f'FeelingMostCommon_{category}.pkl', 'rb') as file:\n",
        "    loaded_common_feelings[category] = pickle.load(file)"
      ],
      "metadata": {
        "id": "mbNwiTFExk4z"
      },
      "execution_count": null,
      "outputs": []
    },
    {
      "cell_type": "code",
      "source": [
        "print(loaded_model)"
      ],
      "metadata": {
        "colab": {
          "base_uri": "https://localhost:8080/"
        },
        "id": "z8vTgZHTAZCn",
        "outputId": "34bde92b-e198-472c-bea2-aeb1546742c3"
      },
      "execution_count": null,
      "outputs": [
        {
          "output_type": "stream",
          "name": "stdout",
          "text": [
            "{'AdaBoostClassifier': AdaBoostClassifier(), 'KNeighborsClassifier': KNeighborsClassifier(), 'RandomForestClassifier': RandomForestClassifier(), 'DecisionTreeClassifier': DecisionTreeClassifier(), 'GaussianNB': GaussianNB(), 'MultinomialNB': MultinomialNB(), 'SVC': SVC(), 'LogisticRegression': LogisticRegression(), 'GradientBoostingClassifier': GradientBoostingClassifier(), 'LGBMClassifier': LGBMClassifier()}\n"
          ]
        }
      ]
    },
    {
      "cell_type": "code",
      "source": [
        "stoplist = nltk.corpus.stopwords.words(\"english\")\n",
        "names = nltk.corpus.names.words()\n",
        "lemmatizer = WordNetLemmatizer()\n",
        "\n",
        "data = {'stopwords': stopwords, 'names': names}\n",
        "with open('nltk_data.pkl', 'wb') as file:\n",
        "    pickle.dump(data, file)"
      ],
      "metadata": {
        "id": "SpW08Wqf4zQl"
      },
      "execution_count": null,
      "outputs": []
    },
    {
      "cell_type": "code",
      "source": [
        "#Cargando la funcion utilizada en el entrenamiento para volver a limpiar la data en produccion\n",
        "def get_tokens_prediction(text):\n",
        "\n",
        "  tokens = word_tokenize(text)\n",
        "  cleaned_tokens = []\n",
        "\n",
        "  for token in tokens:\n",
        "    if token in stoplist: continue\n",
        "    if token in names: continue\n",
        "    if not token.isalpha(): continue\n",
        "    token = token.lower()\n",
        "    token = lemmatizer.lemmatize(token)\n",
        "    if token not in most_common_tokens: continue\n",
        "    cleaned_tokens.append(token)\n",
        "\n",
        "  return \" \".join(cleaned_tokens)"
      ],
      "metadata": {
        "id": "D10u171-4HmK"
      },
      "execution_count": null,
      "outputs": []
    },
    {
      "cell_type": "code",
      "source": [
        "#Cargando el dataset completo\n",
        "predict_df = pd.read_csv(\"/content/tweet_emotions.csv\")"
      ],
      "metadata": {
        "id": "aIYEHtge35P_"
      },
      "execution_count": null,
      "outputs": []
    },
    {
      "cell_type": "code",
      "source": [
        "get_tokens_prediction(predict_df.iloc[400]['content'])"
      ],
      "metadata": {
        "colab": {
          "base_uri": "https://localhost:8080/",
          "height": 35
        },
        "id": "Bn-rZPka8DNE",
        "outputId": "180d0de6-4139-4d23-c124-5a9e00e50077"
      },
      "execution_count": null,
      "outputs": [
        {
          "output_type": "execute_result",
          "data": {
            "text/plain": [
              "'it good holiday look v one going home today'"
            ],
            "application/vnd.google.colaboratory.intrinsic+json": {
              "type": "string"
            }
          },
          "metadata": {},
          "execution_count": 40
        }
      ]
    },
    {
      "cell_type": "code",
      "source": [
        "predict_df[\"Tokens String\"] = predict_df[\"content\"].apply(lambda x: get_tokens_prediction(x))"
      ],
      "metadata": {
        "id": "vL2PyF2K9QU8"
      },
      "execution_count": null,
      "outputs": []
    },
    {
      "cell_type": "code",
      "source": [
        "#vectorizacion again\n",
        "vectorizer = TfidfVectorizer(vocabulary=most_common_tokens)\n",
        "X = vectorizer.fit_transform(predict_df[\"Tokens String\"])"
      ],
      "metadata": {
        "id": "4-zsj_ht81Yi"
      },
      "execution_count": null,
      "outputs": []
    },
    {
      "cell_type": "code",
      "source": [
        "predictions = model.predict(X)"
      ],
      "metadata": {
        "id": "WPj5JPquFcSR"
      },
      "execution_count": null,
      "outputs": []
    },
    {
      "cell_type": "code",
      "source": [
        "print(predict_df)"
      ],
      "metadata": {
        "colab": {
          "base_uri": "https://localhost:8080/"
        },
        "id": "RoPjt5njhfxW",
        "outputId": "0aabf63a-10b3-4d22-9594-e944a2a5d962"
      },
      "execution_count": null,
      "outputs": [
        {
          "output_type": "stream",
          "name": "stdout",
          "text": [
            "         tweet_id   sentiment  \\\n",
            "0      1956967341       empty   \n",
            "1      1956967666     sadness   \n",
            "2      1956967696     sadness   \n",
            "3      1956967789  enthusiasm   \n",
            "4      1956968416     neutral   \n",
            "...           ...         ...   \n",
            "39995  1753918954     neutral   \n",
            "39996  1753919001        love   \n",
            "39997  1753919005        love   \n",
            "39998  1753919043   happiness   \n",
            "39999  1753919049        love   \n",
            "\n",
            "                                                 content  \\\n",
            "0      @tiffanylue i know  i was listenin to bad habi...   \n",
            "1      Layin n bed with a headache  ughhhh...waitin o...   \n",
            "2                    Funeral ceremony...gloomy friday...   \n",
            "3                   wants to hang out with friends SOON!   \n",
            "4      @dannycastillo We want to trade with someone w...   \n",
            "...                                                  ...   \n",
            "39995                                   @JohnLloydTaylor   \n",
            "39996                     Happy Mothers Day  All my love   \n",
            "39997  Happy Mother's Day to all the mommies out ther...   \n",
            "39998  @niariley WASSUP BEAUTIFUL!!! FOLLOW ME!!  PEE...   \n",
            "39999  @mopedronin bullet train from tokyo    the gf ...   \n",
            "\n",
            "                                           Tokens String  \n",
            "0                          know bad earlier started part  \n",
            "1                                      bed headache call  \n",
            "2                                                 friday  \n",
            "3                                  want hang friend soon  \n",
            "4                             we want someone ticket one  \n",
            "...                                                  ...  \n",
            "39995                                                     \n",
            "39996                                mother day all love  \n",
            "39997        mother day mommy woman man long someone day  \n",
            "39998  beautiful follow me peep out my new hit single...  \n",
            "39999                               train since thursday  \n",
            "\n",
            "[40000 rows x 4 columns]\n"
          ]
        }
      ]
    },
    {
      "cell_type": "code",
      "source": [
        "#concatenacion de las columnas tokens string y prediction en el data set\n",
        "pd.concat([predict_df, pd.Series(predictions, name=\"Prediction\")], axis=1)"
      ],
      "metadata": {
        "colab": {
          "base_uri": "https://localhost:8080/",
          "height": 424
        },
        "id": "440torVm98dr",
        "outputId": "b25ccec6-cf92-4871-b642-97405c57abc7"
      },
      "execution_count": null,
      "outputs": [
        {
          "output_type": "execute_result",
          "data": {
            "text/plain": [
              "         tweet_id   sentiment  \\\n",
              "0      1956967341       empty   \n",
              "1      1956967666     sadness   \n",
              "2      1956967696     sadness   \n",
              "3      1956967789  enthusiasm   \n",
              "4      1956968416     neutral   \n",
              "...           ...         ...   \n",
              "39995  1753918954     neutral   \n",
              "39996  1753919001        love   \n",
              "39997  1753919005        love   \n",
              "39998  1753919043   happiness   \n",
              "39999  1753919049        love   \n",
              "\n",
              "                                                 content  \\\n",
              "0      @tiffanylue i know  i was listenin to bad habi...   \n",
              "1      Layin n bed with a headache  ughhhh...waitin o...   \n",
              "2                    Funeral ceremony...gloomy friday...   \n",
              "3                   wants to hang out with friends SOON!   \n",
              "4      @dannycastillo We want to trade with someone w...   \n",
              "...                                                  ...   \n",
              "39995                                   @JohnLloydTaylor   \n",
              "39996                     Happy Mothers Day  All my love   \n",
              "39997  Happy Mother's Day to all the mommies out ther...   \n",
              "39998  @niariley WASSUP BEAUTIFUL!!! FOLLOW ME!!  PEE...   \n",
              "39999  @mopedronin bullet train from tokyo    the gf ...   \n",
              "\n",
              "                                           Tokens String Prediction  \n",
              "0                          know bad earlier started part      worry  \n",
              "1                                      bed headache call      worry  \n",
              "2                                                 friday      worry  \n",
              "3                                  want hang friend soon    neutral  \n",
              "4                             we want someone ticket one    neutral  \n",
              "...                                                  ...        ...  \n",
              "39995                                                       neutral  \n",
              "39996                                mother day all love      worry  \n",
              "39997        mother day mommy woman man long someone day    neutral  \n",
              "39998  beautiful follow me peep out my new hit single...      worry  \n",
              "39999                               train since thursday      worry  \n",
              "\n",
              "[40000 rows x 5 columns]"
            ],
            "text/html": [
              "\n",
              "  <div id=\"df-4e1d80ec-11e2-4865-8655-0fc2f31c6677\" class=\"colab-df-container\">\n",
              "    <div>\n",
              "<style scoped>\n",
              "    .dataframe tbody tr th:only-of-type {\n",
              "        vertical-align: middle;\n",
              "    }\n",
              "\n",
              "    .dataframe tbody tr th {\n",
              "        vertical-align: top;\n",
              "    }\n",
              "\n",
              "    .dataframe thead th {\n",
              "        text-align: right;\n",
              "    }\n",
              "</style>\n",
              "<table border=\"1\" class=\"dataframe\">\n",
              "  <thead>\n",
              "    <tr style=\"text-align: right;\">\n",
              "      <th></th>\n",
              "      <th>tweet_id</th>\n",
              "      <th>sentiment</th>\n",
              "      <th>content</th>\n",
              "      <th>Tokens String</th>\n",
              "      <th>Prediction</th>\n",
              "    </tr>\n",
              "  </thead>\n",
              "  <tbody>\n",
              "    <tr>\n",
              "      <th>0</th>\n",
              "      <td>1956967341</td>\n",
              "      <td>empty</td>\n",
              "      <td>@tiffanylue i know  i was listenin to bad habi...</td>\n",
              "      <td>know bad earlier started part</td>\n",
              "      <td>worry</td>\n",
              "    </tr>\n",
              "    <tr>\n",
              "      <th>1</th>\n",
              "      <td>1956967666</td>\n",
              "      <td>sadness</td>\n",
              "      <td>Layin n bed with a headache  ughhhh...waitin o...</td>\n",
              "      <td>bed headache call</td>\n",
              "      <td>worry</td>\n",
              "    </tr>\n",
              "    <tr>\n",
              "      <th>2</th>\n",
              "      <td>1956967696</td>\n",
              "      <td>sadness</td>\n",
              "      <td>Funeral ceremony...gloomy friday...</td>\n",
              "      <td>friday</td>\n",
              "      <td>worry</td>\n",
              "    </tr>\n",
              "    <tr>\n",
              "      <th>3</th>\n",
              "      <td>1956967789</td>\n",
              "      <td>enthusiasm</td>\n",
              "      <td>wants to hang out with friends SOON!</td>\n",
              "      <td>want hang friend soon</td>\n",
              "      <td>neutral</td>\n",
              "    </tr>\n",
              "    <tr>\n",
              "      <th>4</th>\n",
              "      <td>1956968416</td>\n",
              "      <td>neutral</td>\n",
              "      <td>@dannycastillo We want to trade with someone w...</td>\n",
              "      <td>we want someone ticket one</td>\n",
              "      <td>neutral</td>\n",
              "    </tr>\n",
              "    <tr>\n",
              "      <th>...</th>\n",
              "      <td>...</td>\n",
              "      <td>...</td>\n",
              "      <td>...</td>\n",
              "      <td>...</td>\n",
              "      <td>...</td>\n",
              "    </tr>\n",
              "    <tr>\n",
              "      <th>39995</th>\n",
              "      <td>1753918954</td>\n",
              "      <td>neutral</td>\n",
              "      <td>@JohnLloydTaylor</td>\n",
              "      <td></td>\n",
              "      <td>neutral</td>\n",
              "    </tr>\n",
              "    <tr>\n",
              "      <th>39996</th>\n",
              "      <td>1753919001</td>\n",
              "      <td>love</td>\n",
              "      <td>Happy Mothers Day  All my love</td>\n",
              "      <td>mother day all love</td>\n",
              "      <td>worry</td>\n",
              "    </tr>\n",
              "    <tr>\n",
              "      <th>39997</th>\n",
              "      <td>1753919005</td>\n",
              "      <td>love</td>\n",
              "      <td>Happy Mother's Day to all the mommies out ther...</td>\n",
              "      <td>mother day mommy woman man long someone day</td>\n",
              "      <td>neutral</td>\n",
              "    </tr>\n",
              "    <tr>\n",
              "      <th>39998</th>\n",
              "      <td>1753919043</td>\n",
              "      <td>happiness</td>\n",
              "      <td>@niariley WASSUP BEAUTIFUL!!! FOLLOW ME!!  PEE...</td>\n",
              "      <td>beautiful follow me peep out my new hit single...</td>\n",
              "      <td>worry</td>\n",
              "    </tr>\n",
              "    <tr>\n",
              "      <th>39999</th>\n",
              "      <td>1753919049</td>\n",
              "      <td>love</td>\n",
              "      <td>@mopedronin bullet train from tokyo    the gf ...</td>\n",
              "      <td>train since thursday</td>\n",
              "      <td>worry</td>\n",
              "    </tr>\n",
              "  </tbody>\n",
              "</table>\n",
              "<p>40000 rows × 5 columns</p>\n",
              "</div>\n",
              "    <div class=\"colab-df-buttons\">\n",
              "\n",
              "  <div class=\"colab-df-container\">\n",
              "    <button class=\"colab-df-convert\" onclick=\"convertToInteractive('df-4e1d80ec-11e2-4865-8655-0fc2f31c6677')\"\n",
              "            title=\"Convert this dataframe to an interactive table.\"\n",
              "            style=\"display:none;\">\n",
              "\n",
              "  <svg xmlns=\"http://www.w3.org/2000/svg\" height=\"24px\" viewBox=\"0 -960 960 960\">\n",
              "    <path d=\"M120-120v-720h720v720H120Zm60-500h600v-160H180v160Zm220 220h160v-160H400v160Zm0 220h160v-160H400v160ZM180-400h160v-160H180v160Zm440 0h160v-160H620v160ZM180-180h160v-160H180v160Zm440 0h160v-160H620v160Z\"/>\n",
              "  </svg>\n",
              "    </button>\n",
              "\n",
              "  <style>\n",
              "    .colab-df-container {\n",
              "      display:flex;\n",
              "      gap: 12px;\n",
              "    }\n",
              "\n",
              "    .colab-df-convert {\n",
              "      background-color: #E8F0FE;\n",
              "      border: none;\n",
              "      border-radius: 50%;\n",
              "      cursor: pointer;\n",
              "      display: none;\n",
              "      fill: #1967D2;\n",
              "      height: 32px;\n",
              "      padding: 0 0 0 0;\n",
              "      width: 32px;\n",
              "    }\n",
              "\n",
              "    .colab-df-convert:hover {\n",
              "      background-color: #E2EBFA;\n",
              "      box-shadow: 0px 1px 2px rgba(60, 64, 67, 0.3), 0px 1px 3px 1px rgba(60, 64, 67, 0.15);\n",
              "      fill: #174EA6;\n",
              "    }\n",
              "\n",
              "    .colab-df-buttons div {\n",
              "      margin-bottom: 4px;\n",
              "    }\n",
              "\n",
              "    [theme=dark] .colab-df-convert {\n",
              "      background-color: #3B4455;\n",
              "      fill: #D2E3FC;\n",
              "    }\n",
              "\n",
              "    [theme=dark] .colab-df-convert:hover {\n",
              "      background-color: #434B5C;\n",
              "      box-shadow: 0px 1px 3px 1px rgba(0, 0, 0, 0.15);\n",
              "      filter: drop-shadow(0px 1px 2px rgba(0, 0, 0, 0.3));\n",
              "      fill: #FFFFFF;\n",
              "    }\n",
              "  </style>\n",
              "\n",
              "    <script>\n",
              "      const buttonEl =\n",
              "        document.querySelector('#df-4e1d80ec-11e2-4865-8655-0fc2f31c6677 button.colab-df-convert');\n",
              "      buttonEl.style.display =\n",
              "        google.colab.kernel.accessAllowed ? 'block' : 'none';\n",
              "\n",
              "      async function convertToInteractive(key) {\n",
              "        const element = document.querySelector('#df-4e1d80ec-11e2-4865-8655-0fc2f31c6677');\n",
              "        const dataTable =\n",
              "          await google.colab.kernel.invokeFunction('convertToInteractive',\n",
              "                                                    [key], {});\n",
              "        if (!dataTable) return;\n",
              "\n",
              "        const docLinkHtml = 'Like what you see? Visit the ' +\n",
              "          '<a target=\"_blank\" href=https://colab.research.google.com/notebooks/data_table.ipynb>data table notebook</a>'\n",
              "          + ' to learn more about interactive tables.';\n",
              "        element.innerHTML = '';\n",
              "        dataTable['output_type'] = 'display_data';\n",
              "        await google.colab.output.renderOutput(dataTable, element);\n",
              "        const docLink = document.createElement('div');\n",
              "        docLink.innerHTML = docLinkHtml;\n",
              "        element.appendChild(docLink);\n",
              "      }\n",
              "    </script>\n",
              "  </div>\n",
              "\n",
              "\n",
              "<div id=\"df-4fcfb4ed-69af-464a-ab85-1496299c0b21\">\n",
              "  <button class=\"colab-df-quickchart\" onclick=\"quickchart('df-4fcfb4ed-69af-464a-ab85-1496299c0b21')\"\n",
              "            title=\"Suggest charts.\"\n",
              "            style=\"display:none;\">\n",
              "\n",
              "<svg xmlns=\"http://www.w3.org/2000/svg\" height=\"24px\"viewBox=\"0 0 24 24\"\n",
              "     width=\"24px\">\n",
              "    <g>\n",
              "        <path d=\"M19 3H5c-1.1 0-2 .9-2 2v14c0 1.1.9 2 2 2h14c1.1 0 2-.9 2-2V5c0-1.1-.9-2-2-2zM9 17H7v-7h2v7zm4 0h-2V7h2v10zm4 0h-2v-4h2v4z\"/>\n",
              "    </g>\n",
              "</svg>\n",
              "  </button>\n",
              "\n",
              "<style>\n",
              "  .colab-df-quickchart {\n",
              "      --bg-color: #E8F0FE;\n",
              "      --fill-color: #1967D2;\n",
              "      --hover-bg-color: #E2EBFA;\n",
              "      --hover-fill-color: #174EA6;\n",
              "      --disabled-fill-color: #AAA;\n",
              "      --disabled-bg-color: #DDD;\n",
              "  }\n",
              "\n",
              "  [theme=dark] .colab-df-quickchart {\n",
              "      --bg-color: #3B4455;\n",
              "      --fill-color: #D2E3FC;\n",
              "      --hover-bg-color: #434B5C;\n",
              "      --hover-fill-color: #FFFFFF;\n",
              "      --disabled-bg-color: #3B4455;\n",
              "      --disabled-fill-color: #666;\n",
              "  }\n",
              "\n",
              "  .colab-df-quickchart {\n",
              "    background-color: var(--bg-color);\n",
              "    border: none;\n",
              "    border-radius: 50%;\n",
              "    cursor: pointer;\n",
              "    display: none;\n",
              "    fill: var(--fill-color);\n",
              "    height: 32px;\n",
              "    padding: 0;\n",
              "    width: 32px;\n",
              "  }\n",
              "\n",
              "  .colab-df-quickchart:hover {\n",
              "    background-color: var(--hover-bg-color);\n",
              "    box-shadow: 0 1px 2px rgba(60, 64, 67, 0.3), 0 1px 3px 1px rgba(60, 64, 67, 0.15);\n",
              "    fill: var(--button-hover-fill-color);\n",
              "  }\n",
              "\n",
              "  .colab-df-quickchart-complete:disabled,\n",
              "  .colab-df-quickchart-complete:disabled:hover {\n",
              "    background-color: var(--disabled-bg-color);\n",
              "    fill: var(--disabled-fill-color);\n",
              "    box-shadow: none;\n",
              "  }\n",
              "\n",
              "  .colab-df-spinner {\n",
              "    border: 2px solid var(--fill-color);\n",
              "    border-color: transparent;\n",
              "    border-bottom-color: var(--fill-color);\n",
              "    animation:\n",
              "      spin 1s steps(1) infinite;\n",
              "  }\n",
              "\n",
              "  @keyframes spin {\n",
              "    0% {\n",
              "      border-color: transparent;\n",
              "      border-bottom-color: var(--fill-color);\n",
              "      border-left-color: var(--fill-color);\n",
              "    }\n",
              "    20% {\n",
              "      border-color: transparent;\n",
              "      border-left-color: var(--fill-color);\n",
              "      border-top-color: var(--fill-color);\n",
              "    }\n",
              "    30% {\n",
              "      border-color: transparent;\n",
              "      border-left-color: var(--fill-color);\n",
              "      border-top-color: var(--fill-color);\n",
              "      border-right-color: var(--fill-color);\n",
              "    }\n",
              "    40% {\n",
              "      border-color: transparent;\n",
              "      border-right-color: var(--fill-color);\n",
              "      border-top-color: var(--fill-color);\n",
              "    }\n",
              "    60% {\n",
              "      border-color: transparent;\n",
              "      border-right-color: var(--fill-color);\n",
              "    }\n",
              "    80% {\n",
              "      border-color: transparent;\n",
              "      border-right-color: var(--fill-color);\n",
              "      border-bottom-color: var(--fill-color);\n",
              "    }\n",
              "    90% {\n",
              "      border-color: transparent;\n",
              "      border-bottom-color: var(--fill-color);\n",
              "    }\n",
              "  }\n",
              "</style>\n",
              "\n",
              "  <script>\n",
              "    async function quickchart(key) {\n",
              "      const quickchartButtonEl =\n",
              "        document.querySelector('#' + key + ' button');\n",
              "      quickchartButtonEl.disabled = true;  // To prevent multiple clicks.\n",
              "      quickchartButtonEl.classList.add('colab-df-spinner');\n",
              "      try {\n",
              "        const charts = await google.colab.kernel.invokeFunction(\n",
              "            'suggestCharts', [key], {});\n",
              "      } catch (error) {\n",
              "        console.error('Error during call to suggestCharts:', error);\n",
              "      }\n",
              "      quickchartButtonEl.classList.remove('colab-df-spinner');\n",
              "      quickchartButtonEl.classList.add('colab-df-quickchart-complete');\n",
              "    }\n",
              "    (() => {\n",
              "      let quickchartButtonEl =\n",
              "        document.querySelector('#df-4fcfb4ed-69af-464a-ab85-1496299c0b21 button');\n",
              "      quickchartButtonEl.style.display =\n",
              "        google.colab.kernel.accessAllowed ? 'block' : 'none';\n",
              "    })();\n",
              "  </script>\n",
              "</div>\n",
              "    </div>\n",
              "  </div>\n"
            ]
          },
          "metadata": {},
          "execution_count": 57
        }
      ]
    },
    {
      "cell_type": "markdown",
      "source": [
        "##Information no longer needed from here on"
      ],
      "metadata": {
        "id": "psGNHFU9yE8V"
      }
    },
    {
      "cell_type": "code",
      "source": [
        "from sklearn.naive_bayes import GaussianNB\n",
        "from sklearn.model_selection import train_test_split\n",
        "from sklearn.metrics import accuracy_score, precision_score, recall_score, confusion_matrix, classification_report"
      ],
      "metadata": {
        "id": "Je1VNFyfe9-v"
      },
      "execution_count": null,
      "outputs": []
    },
    {
      "cell_type": "code",
      "source": [
        "\"\"\"vocabulario = []\n",
        "\n",
        "for i in data_frame['content']:\n",
        "  vocabulario += get_tokens(i)\n",
        "\n",
        "FreqDist(vocabulario).most_common(500)\"\"\""
      ],
      "metadata": {
        "colab": {
          "base_uri": "https://localhost:8080/",
          "height": 35
        },
        "id": "qZTt34eDzM6m",
        "outputId": "28ca454e-eb92-4f28-b081-aa9151f752d4"
      },
      "execution_count": null,
      "outputs": [
        {
          "output_type": "execute_result",
          "data": {
            "text/plain": [
              "\"vocabulario = []\\n\\nfor i in data_frame['content']:\\n  vocabulario += get_tokens(i)\\n\\nFreqDist(vocabulario).most_common(500)\""
            ],
            "application/vnd.google.colaboratory.intrinsic+json": {
              "type": "string"
            }
          },
          "metadata": {},
          "execution_count": 46
        }
      ]
    },
    {
      "cell_type": "code",
      "source": [
        "# Lista de las clases que deseas mantener\n",
        "'''classes_to_keep = ['neutral', 'worry', 'happiness', 'sadness', 'love']\n",
        "\n",
        "# Inicializa una lista vacía para almacenar las muestras de cada clase\n",
        "samples_per_class = []\n",
        "\n",
        "# Itera a través de las clases y toma una muestra de cada una\n",
        "for class_name in classes_to_keep:\n",
        "    sampled_data = data_frame[data_frame[\"sentiment\"] == class_name].sample(5)\n",
        "    samples_per_class.append(sampled_data)\n",
        "\n",
        "\n",
        "# Crear un DataFrame con la data original\n",
        "data = pd.DataFrame({'sentiment': ['neutral', 'worry', 'happiness', 'sadness', 'love'],\n",
        "                     'count': [8638, 8459, 5209, 5165, 3842]})\n",
        "\n",
        "# Establecer el número objetivo de muestras por clase\n",
        "target_count = 8635\n",
        "\n",
        "# Crear listas para almacenar los DataFrames de cada clase\n",
        "class_dfs = []\n",
        "\n",
        "# Realizar upsampling para las clases 'happiness', 'sadness' 'love'\n",
        "for sentiment in ['happiness', 'sadness', 'love']:\n",
        "    class_df = data[data['sentiment'] == sentiment]\n",
        "    oversampled_df = resample(class_df, replace=True, n_samples=target_count, random_state=0)\n",
        "    class_dfs.append(oversampled_df)\n",
        "\n",
        "# Mantener el DataFrame original para las clases restantes\n",
        "class_dfs.append(data[data['sentiment'].isin(['neutral'])])\n",
        "\n",
        "# Concatenar todos los DataFrames en uno nuevo\n",
        "df_training = pd.concat(class_dfs)\n",
        "\n",
        "# Resultado: df_training contiene las clases 'happiness', 'love' y 'sadness' con 8,635 muestras'''"
      ],
      "metadata": {
        "id": "FXZEJjHiw1er",
        "colab": {
          "base_uri": "https://localhost:8080/",
          "height": 161
        },
        "outputId": "05340f1e-031c-4ada-82ed-7ab98f84f73b"
      },
      "execution_count": null,
      "outputs": [
        {
          "output_type": "execute_result",
          "data": {
            "text/plain": [
              "'classes_to_keep = [\\'neutral\\', \\'worry\\', \\'happiness\\', \\'sadness\\', \\'love\\']\\n\\n# Inicializa una lista vacía para almacenar las muestras de cada clase\\nsamples_per_class = []\\n\\n# Itera a través de las clases y toma una muestra de cada una\\nfor class_name in classes_to_keep:\\n    sampled_data = data_frame[data_frame[\"sentiment\"] == class_name].sample(5)\\n    samples_per_class.append(sampled_data)\\n\\n\\n# Crear un DataFrame con la data original\\ndata = pd.DataFrame({\\'sentiment\\': [\\'neutral\\', \\'worry\\', \\'happiness\\', \\'sadness\\', \\'love\\'],\\n                     \\'count\\': [8638, 8459, 5209, 5165, 3842]})\\n\\n# Establecer el número objetivo de muestras por clase\\ntarget_count = 8635\\n\\n# Crear listas para almacenar los DataFrames de cada clase\\nclass_dfs = []\\n\\n# Realizar upsampling para las clases \\'happiness\\', \\'sadness\\' \\'love\\'\\nfor sentiment in [\\'happiness\\', \\'sadness\\', \\'love\\']:\\n    class_df = data[data[\\'sentiment\\'] == sentiment]\\n    oversampled_df = resample(class_df, replace=True, n_samples=target_count, random_state=0)\\n    class_dfs.append(oversampled_df)\\n\\n# Mantener el DataFrame original para las clases restantes\\nclass_dfs.append(data[data[\\'sentiment\\'].isin([\\'neutral\\'])])\\n\\n# Concatenar todos los DataFrames en uno nuevo\\ndf_training = pd.concat(class_dfs)\\n\\n# Resultado: df_training contiene las clases \\'happiness\\', \\'love\\' y \\'sadness\\' con 8,635 muestras'"
            ],
            "application/vnd.google.colaboratory.intrinsic+json": {
              "type": "string"
            }
          },
          "metadata": {},
          "execution_count": 47
        }
      ]
    },
    {
      "cell_type": "code",
      "source": [
        "X_train, X_test, y_train, y_test = train_test_split(X, y, test_size=0.2, random_state=0)"
      ],
      "metadata": {
        "id": "kd0x2pVyfBbA",
        "colab": {
          "base_uri": "https://localhost:8080/",
          "height": 328
        },
        "outputId": "42092e5f-6e67-42f5-f421-b04bbc93d4eb"
      },
      "execution_count": null,
      "outputs": [
        {
          "output_type": "error",
          "ename": "ValueError",
          "evalue": "ignored",
          "traceback": [
            "\u001b[0;31m---------------------------------------------------------------------------\u001b[0m",
            "\u001b[0;31mValueError\u001b[0m                                Traceback (most recent call last)",
            "\u001b[0;32m<ipython-input-48-bb365302dcaa>\u001b[0m in \u001b[0;36m<cell line: 1>\u001b[0;34m()\u001b[0m\n\u001b[0;32m----> 1\u001b[0;31m \u001b[0mX_train\u001b[0m\u001b[0;34m,\u001b[0m \u001b[0mX_test\u001b[0m\u001b[0;34m,\u001b[0m \u001b[0my_train\u001b[0m\u001b[0;34m,\u001b[0m \u001b[0my_test\u001b[0m \u001b[0;34m=\u001b[0m \u001b[0mtrain_test_split\u001b[0m\u001b[0;34m(\u001b[0m\u001b[0mX\u001b[0m\u001b[0;34m,\u001b[0m \u001b[0my\u001b[0m\u001b[0;34m,\u001b[0m \u001b[0mtest_size\u001b[0m\u001b[0;34m=\u001b[0m\u001b[0;36m0.2\u001b[0m\u001b[0;34m,\u001b[0m \u001b[0mrandom_state\u001b[0m\u001b[0;34m=\u001b[0m\u001b[0;36m0\u001b[0m\u001b[0;34m)\u001b[0m\u001b[0;34m\u001b[0m\u001b[0;34m\u001b[0m\u001b[0m\n\u001b[0m",
            "\u001b[0;32m/usr/local/lib/python3.10/dist-packages/sklearn/model_selection/_split.py\u001b[0m in \u001b[0;36mtrain_test_split\u001b[0;34m(test_size, train_size, random_state, shuffle, stratify, *arrays)\u001b[0m\n\u001b[1;32m   2557\u001b[0m         \u001b[0;32mraise\u001b[0m \u001b[0mValueError\u001b[0m\u001b[0;34m(\u001b[0m\u001b[0;34m\"At least one array required as input\"\u001b[0m\u001b[0;34m)\u001b[0m\u001b[0;34m\u001b[0m\u001b[0;34m\u001b[0m\u001b[0m\n\u001b[1;32m   2558\u001b[0m \u001b[0;34m\u001b[0m\u001b[0m\n\u001b[0;32m-> 2559\u001b[0;31m     \u001b[0marrays\u001b[0m \u001b[0;34m=\u001b[0m \u001b[0mindexable\u001b[0m\u001b[0;34m(\u001b[0m\u001b[0;34m*\u001b[0m\u001b[0marrays\u001b[0m\u001b[0;34m)\u001b[0m\u001b[0;34m\u001b[0m\u001b[0;34m\u001b[0m\u001b[0m\n\u001b[0m\u001b[1;32m   2560\u001b[0m \u001b[0;34m\u001b[0m\u001b[0m\n\u001b[1;32m   2561\u001b[0m     \u001b[0mn_samples\u001b[0m \u001b[0;34m=\u001b[0m \u001b[0m_num_samples\u001b[0m\u001b[0;34m(\u001b[0m\u001b[0marrays\u001b[0m\u001b[0;34m[\u001b[0m\u001b[0;36m0\u001b[0m\u001b[0;34m]\u001b[0m\u001b[0;34m)\u001b[0m\u001b[0;34m\u001b[0m\u001b[0;34m\u001b[0m\u001b[0m\n",
            "\u001b[0;32m/usr/local/lib/python3.10/dist-packages/sklearn/utils/validation.py\u001b[0m in \u001b[0;36mindexable\u001b[0;34m(*iterables)\u001b[0m\n\u001b[1;32m    441\u001b[0m \u001b[0;34m\u001b[0m\u001b[0m\n\u001b[1;32m    442\u001b[0m     \u001b[0mresult\u001b[0m \u001b[0;34m=\u001b[0m \u001b[0;34m[\u001b[0m\u001b[0m_make_indexable\u001b[0m\u001b[0;34m(\u001b[0m\u001b[0mX\u001b[0m\u001b[0;34m)\u001b[0m \u001b[0;32mfor\u001b[0m \u001b[0mX\u001b[0m \u001b[0;32min\u001b[0m \u001b[0miterables\u001b[0m\u001b[0;34m]\u001b[0m\u001b[0;34m\u001b[0m\u001b[0;34m\u001b[0m\u001b[0m\n\u001b[0;32m--> 443\u001b[0;31m     \u001b[0mcheck_consistent_length\u001b[0m\u001b[0;34m(\u001b[0m\u001b[0;34m*\u001b[0m\u001b[0mresult\u001b[0m\u001b[0;34m)\u001b[0m\u001b[0;34m\u001b[0m\u001b[0;34m\u001b[0m\u001b[0m\n\u001b[0m\u001b[1;32m    444\u001b[0m     \u001b[0;32mreturn\u001b[0m \u001b[0mresult\u001b[0m\u001b[0;34m\u001b[0m\u001b[0;34m\u001b[0m\u001b[0m\n\u001b[1;32m    445\u001b[0m \u001b[0;34m\u001b[0m\u001b[0m\n",
            "\u001b[0;32m/usr/local/lib/python3.10/dist-packages/sklearn/utils/validation.py\u001b[0m in \u001b[0;36mcheck_consistent_length\u001b[0;34m(*arrays)\u001b[0m\n\u001b[1;32m    395\u001b[0m     \u001b[0muniques\u001b[0m \u001b[0;34m=\u001b[0m \u001b[0mnp\u001b[0m\u001b[0;34m.\u001b[0m\u001b[0munique\u001b[0m\u001b[0;34m(\u001b[0m\u001b[0mlengths\u001b[0m\u001b[0;34m)\u001b[0m\u001b[0;34m\u001b[0m\u001b[0;34m\u001b[0m\u001b[0m\n\u001b[1;32m    396\u001b[0m     \u001b[0;32mif\u001b[0m \u001b[0mlen\u001b[0m\u001b[0;34m(\u001b[0m\u001b[0muniques\u001b[0m\u001b[0;34m)\u001b[0m \u001b[0;34m>\u001b[0m \u001b[0;36m1\u001b[0m\u001b[0;34m:\u001b[0m\u001b[0;34m\u001b[0m\u001b[0;34m\u001b[0m\u001b[0m\n\u001b[0;32m--> 397\u001b[0;31m         raise ValueError(\n\u001b[0m\u001b[1;32m    398\u001b[0m             \u001b[0;34m\"Found input variables with inconsistent numbers of samples: %r\"\u001b[0m\u001b[0;34m\u001b[0m\u001b[0;34m\u001b[0m\u001b[0m\n\u001b[1;32m    399\u001b[0m             \u001b[0;34m%\u001b[0m \u001b[0;34m[\u001b[0m\u001b[0mint\u001b[0m\u001b[0;34m(\u001b[0m\u001b[0ml\u001b[0m\u001b[0;34m)\u001b[0m \u001b[0;32mfor\u001b[0m \u001b[0ml\u001b[0m \u001b[0;32min\u001b[0m \u001b[0mlengths\u001b[0m\u001b[0;34m]\u001b[0m\u001b[0;34m\u001b[0m\u001b[0;34m\u001b[0m\u001b[0m\n",
            "\u001b[0;31mValueError\u001b[0m: Found input variables with inconsistent numbers of samples: [40000, 17097]"
          ]
        }
      ]
    },
    {
      "cell_type": "code",
      "source": [
        "model = GaussianNB()\n",
        "model.fit(X_train.toarray(), y_train)"
      ],
      "metadata": {
        "id": "aBRIbEDZiexT"
      },
      "execution_count": null,
      "outputs": []
    },
    {
      "cell_type": "code",
      "source": [
        "#probabilidad a priori de las clases\n",
        "model.class_prior_"
      ],
      "metadata": {
        "id": "QAduhxy6kpDL"
      },
      "execution_count": null,
      "outputs": []
    },
    {
      "cell_type": "code",
      "source": [
        "#clases a trabajar\n",
        "model.classes_"
      ],
      "metadata": {
        "id": "WTx-oVvzlQYI"
      },
      "execution_count": null,
      "outputs": []
    },
    {
      "cell_type": "code",
      "source": [
        "#Testeando la prediccion del modelo\n",
        "model.predict(X_test.toarray())"
      ],
      "metadata": {
        "id": "Z5XhpA_2rYGQ"
      },
      "execution_count": null,
      "outputs": []
    },
    {
      "cell_type": "code",
      "source": [
        "#no se usa\n",
        "'''accuracy_score(y_test, model.predict(X_test.toarray()))\n",
        "precision_score(y_test, model.predict(X_test.toarray()), pos_label=\"worry\")\n",
        "recall_score(y_test, model.predict(X_test.toarray()), pos_label=\"neutral\")'''"
      ],
      "metadata": {
        "id": "aAKaQpMns-1a"
      },
      "execution_count": null,
      "outputs": []
    },
    {
      "cell_type": "code",
      "source": [
        "#reporte del modelo\n",
        "print(classification_report(y_test, model.predict(X_test.toarray())))"
      ],
      "metadata": {
        "id": "HD21jeTP3nnR"
      },
      "execution_count": null,
      "outputs": []
    },
    {
      "cell_type": "code",
      "source": [
        "#matriz de confunsion\n",
        "confusion_matrix(y_test, model.predict(X_test.toarray()))"
      ],
      "metadata": {
        "id": "BjxbhEKg4aLT"
      },
      "execution_count": null,
      "outputs": []
    },
    {
      "cell_type": "code",
      "source": [
        "#creacion de un archivo pickle para guardar el modelo\n",
        "with open(\"model_naive_bayes.pkl\", \"wb\") as file:\n",
        "  pickle.dump(model, file)"
      ],
      "metadata": {
        "id": "33_lx1i_6EuO"
      },
      "execution_count": null,
      "outputs": []
    },
    {
      "cell_type": "code",
      "source": [
        "#A la hora de vectorizar practicar con lo siguiente para los sentimientos:\n",
        "#Upsampling\n",
        "#Downsampling\n",
        "#Tomar unicamente las que tengan mayor numero de datos\n",
        "#Hacer union de sentimientos como por ejemplo happiness puede tener enthusiasm junto\n",
        "\n",
        "#Al final comparar toda esa data para ver resultados y encontrar la mejor forma para presentar la data"
      ],
      "metadata": {
        "id": "_TCaYGpYa6Mt"
      },
      "execution_count": null,
      "outputs": []
    },
    {
      "cell_type": "markdown",
      "source": [
        "##Multinomial Naive Bayes"
      ],
      "metadata": {
        "id": "TpgsBB6Q-AN5"
      }
    },
    {
      "cell_type": "code",
      "source": [
        "from sklearn.datasets import load_iris\n",
        "from sklearn.model_selection import train_test_split\n",
        "from sklearn.naive_bayes import GaussianNB"
      ],
      "metadata": {
        "id": "nRiSbUH5-Cgl"
      },
      "execution_count": null,
      "outputs": []
    },
    {
      "cell_type": "code",
      "source": [
        "X, y = load_iris(return_X_y=True)\n",
        "X_train, X_test, y_train, y_test = train_test_split(X, y, test_size=0.2, random_state=0)"
      ],
      "metadata": {
        "id": "02Fmuzmn-4jI"
      },
      "execution_count": null,
      "outputs": []
    },
    {
      "cell_type": "code",
      "source": [
        "modelo_2 = GaussianNB()\n",
        "y_pred = modelo_2.fit(X_train, y_train)"
      ],
      "metadata": {
        "id": "q9q2eRRs_CHy"
      },
      "execution_count": null,
      "outputs": []
    },
    {
      "cell_type": "code",
      "source": [
        "accuracy_score(y_test, modelo_2.predict(X_test))"
      ],
      "metadata": {
        "id": "CcFNX9B-CTLk"
      },
      "execution_count": null,
      "outputs": []
    },
    {
      "cell_type": "code",
      "source": [
        "#probabilidad a priori de las clases\n",
        "modelo_2.class_prior_"
      ],
      "metadata": {
        "id": "aCKF49qg__1x"
      },
      "execution_count": null,
      "outputs": []
    },
    {
      "cell_type": "code",
      "source": [
        "#clases a trabajar\n",
        "modelo_2.classes_"
      ],
      "metadata": {
        "id": "OVxiyFn3Am6E"
      },
      "execution_count": null,
      "outputs": []
    },
    {
      "cell_type": "code",
      "source": [
        "#Testeando la prediccion del modelo\n",
        "modelo_2.predict(X_test)"
      ],
      "metadata": {
        "id": "516ut0n2ALGg"
      },
      "execution_count": null,
      "outputs": []
    },
    {
      "cell_type": "code",
      "source": [
        "#reporte del modelo\n",
        "print(classification_report(y_test, modelo_2.predict(X_test)))"
      ],
      "metadata": {
        "id": "42Uz7oxaAUpL"
      },
      "execution_count": null,
      "outputs": []
    },
    {
      "cell_type": "code",
      "source": [
        "#matriz de confusion\n",
        "confusion_matrix(y_test, modelo_2.predict(X_test))"
      ],
      "metadata": {
        "id": "nl_9Hh6qAgWy"
      },
      "execution_count": null,
      "outputs": []
    },
    {
      "cell_type": "code",
      "source": [
        "#creacion de un archivo pickle para guardar el modelo\n",
        "with open(\"model_multinomial_naive_bayes.pkl\", \"wb\") as file:\n",
        "  pickle.dump(model, file)"
      ],
      "metadata": {
        "id": "Y2yUmQ0pAw2T"
      },
      "execution_count": null,
      "outputs": []
    },
    {
      "cell_type": "markdown",
      "source": [
        "##AdaBoostClassifier"
      ],
      "metadata": {
        "id": "U60V0_0RaN41"
      }
    },
    {
      "cell_type": "code",
      "source": [
        "from sklearn.model_selection import cross_val_score\n",
        "from sklearn.datasets import load_iris\n",
        "from sklearn.ensemble import AdaBoostClassifier"
      ],
      "metadata": {
        "id": "WvOIqjEnaSbJ"
      },
      "execution_count": null,
      "outputs": []
    },
    {
      "cell_type": "code",
      "source": [
        "X, y = load_iris(return_X_y=True)\n",
        "clf = AdaBoostClassifier(n_estimators=100)\n",
        "scores = cross_val_score(clf, X, y, cv=5)\n",
        "scores.mean()"
      ],
      "metadata": {
        "id": "aXLSw3_QanEb"
      },
      "execution_count": null,
      "outputs": []
    },
    {
      "cell_type": "markdown",
      "source": [
        "##Decision Tree Classifier"
      ],
      "metadata": {
        "id": "57_wgyqTcRk8"
      }
    },
    {
      "cell_type": "code",
      "source": [
        "from sklearn import tree\n",
        "x = [[0, 0], [1, 1]]\n",
        "Y = [0, 1]\n",
        "clf = tree.DecisionTreeClassifier()\n",
        "clf = clf.fit(x, Y)\n",
        "clf"
      ],
      "metadata": {
        "id": "RAOWbe8RcTZb"
      },
      "execution_count": null,
      "outputs": []
    },
    {
      "cell_type": "code",
      "source": [
        "clf.predict([[2., 2.]])"
      ],
      "metadata": {
        "id": "qTxVTMU3fp4w"
      },
      "execution_count": null,
      "outputs": []
    },
    {
      "cell_type": "code",
      "source": [
        "clf.predict_proba([[2., 2.]])"
      ],
      "metadata": {
        "id": "GftkhTSqfx73"
      },
      "execution_count": null,
      "outputs": []
    },
    {
      "cell_type": "code",
      "source": [
        "tree.plot_tree(clf)"
      ],
      "metadata": {
        "id": "AseU4clxf52u"
      },
      "execution_count": null,
      "outputs": []
    },
    {
      "cell_type": "markdown",
      "source": [
        "##Random Forest Classifier"
      ],
      "metadata": {
        "id": "KoQI8w8CgLMu"
      }
    },
    {
      "cell_type": "code",
      "source": [
        "from sklearn.ensemble import RandomForestClassifier\n",
        "W = [[0, 0], [1, 1]]\n",
        "Z = [0, 1]\n",
        "clf = RandomForestClassifier(n_estimators=10)\n",
        "clf = clf.fit(W, Z)\n",
        "clf"
      ],
      "metadata": {
        "id": "fGn5zQzVgNCO"
      },
      "execution_count": null,
      "outputs": []
    },
    {
      "cell_type": "markdown",
      "source": [
        "##KNearest Neighbors Classifier"
      ],
      "metadata": {
        "id": "j76hAGyFk2Fu"
      }
    },
    {
      "cell_type": "code",
      "source": [
        "X = [[0], [1], [2], [3]]\n",
        ">>> y = [0, 0, 1, 1]\n",
        ">>> from sklearn.neighbors import KNeighborsClassifier\n",
        ">>> neigh = KNeighborsClassifier(n_neighbors=3)\n",
        ">>> neigh.fit(X, y)\n",
        "KNeighborsClassifier(...)\n",
        ">>> print(neigh.predict([[1.1]]))\n",
        "[0]\n",
        ">>> print(neigh.predict_proba([[0.9]]))"
      ],
      "metadata": {
        "id": "047Vkq2ak5Xy"
      },
      "execution_count": null,
      "outputs": []
    }
  ]
}